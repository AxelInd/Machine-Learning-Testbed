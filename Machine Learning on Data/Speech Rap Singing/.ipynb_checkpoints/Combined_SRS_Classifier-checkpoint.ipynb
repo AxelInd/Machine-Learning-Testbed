{
 "cells": [
  {
   "cell_type": "markdown",
   "id": "ba1813ff",
   "metadata": {},
   "source": [
    "<h1> Speech Rap Signing Classification</h1>\n",
    "\n",
    "Source: https://www.youtube.com/watch?v=dOG-HxpbMSw&list=PL-wATfeyAMNrtbkCNsLcpoAyBBRJZVlnf&index=16\n",
    "\n",
    "Data source: see my SRS_classifier.ipynb notebook"
   ]
  },
  {
   "cell_type": "code",
   "execution_count": 1,
   "id": "c5d50b3d",
   "metadata": {},
   "outputs": [],
   "source": [
    "import numpy as np\n",
    "import json"
   ]
  },
  {
   "cell_type": "markdown",
   "id": "da08bbf7",
   "metadata": {},
   "source": [
    "<h2>Data Preperation</h2>\n",
    "\n",
    "We use the same MFCC data drawn at 16000 samples per second as we generated for the multi-layer perceptron approach used previously (see SRS_classifier.ipynb).\n",
    "\n",
    "Data structure:\n",
    "\n",
    "$x.\\texttt{shape}=(\\text{num samples},\\text{num time intervals}, \\text{num MFCC variables})$\n",
    "\n",
    "$x_i.\\texttt{shape} = (\\text{num time intervals}, \\text{num mfcc variables}))$\n",
    "\n",
    "\n",
    "$y.\\texttt{shape}=(\\text{num labels})$\n",
    "\n",
    "$y_i=\\text{label}$\n",
    "\n",
    "where $\\text{label} \\in \\{1,2,3\\}$"
   ]
  },
  {
   "cell_type": "code",
   "execution_count": 2,
   "id": "6b608c8a",
   "metadata": {},
   "outputs": [],
   "source": [
    "#load data from the file\n",
    "#split data into training and test\n",
    "\"\"\"\n",
    "load data from a json file with objects \"mfcc\" and \"labels\"\n",
    "@param dataset_path: path to the json file\n",
    "@return np array of mfcc data, np array of target values\n",
    "\"\"\"\n",
    "def load_data(dataset_path):\n",
    "    with open(dataset_path, \"r\") as fp:\n",
    "        data = json.load(fp)\n",
    "        inputs=np.array(data[\"mfcc\"])\n",
    "        targets=np.array(data[\"labels\"])\n",
    "        return inputs,targets\n"
   ]
  },
  {
   "cell_type": "markdown",
   "id": "52cb1594",
   "metadata": {},
   "source": [
    "<h3>Load the data</h3>\n",
    "Load the data from the jason file and verify that the inputs are of the expected type, and the sample size is as expected, in this case: 480 samples of each label.\n"
   ]
  },
  {
   "cell_type": "code",
   "execution_count": 3,
   "id": "232f9eef",
   "metadata": {},
   "outputs": [
    {
     "name": "stdout",
     "output_type": "stream",
     "text": [
      "input shape (1440, 94, 13)\n",
      "Frequency of unique values of the targets:\n",
      "[[  1   2   3]\n",
      " [480 480 480]]\n"
     ]
    }
   ],
   "source": [
    "x,y = load_data(\"data.json\")\n",
    "print (\"input shape\", x.shape)\n",
    "\n",
    "unique_elements, counts_elements = np.unique(y, return_counts=True)\n",
    "print(\"Frequency of unique values of the targets:\")\n",
    "print(np.asarray((unique_elements, counts_elements)))"
   ]
  },
  {
   "cell_type": "markdown",
   "id": "f5765372",
   "metadata": {},
   "source": [
    "<h3>Create training, validation and test datasets</h3>\n",
    "<ul>\n",
    "    <li><b>training</b>: used to train the model.</li>\n",
    "    <li><b>validation</b>: used to evaluate the model after training.</li>\n",
    "    <li><b>test</b>: used to evaluate a model that does well on validation. Ensures that the ML engineer has not been inadvertantly tweaking his model to work on the validation set alone, rather than generalising.</li>\n",
    "    </ul>\n",
    "    \n",
    "Here we also add another axis/dimension to our input, giving each training sample a channel depth of 1. (Our CNN will require 3D samples as input). Our labels do not change."
   ]
  },
  {
   "cell_type": "code",
   "execution_count": 4,
   "id": "fac8ddc6",
   "metadata": {},
   "outputs": [],
   "source": [
    "from sklearn.model_selection import train_test_split\n",
    "def prepare_datasets(x,y,test_size,validation_size,dataset_path):\n",
    "    #test set: test on the fully trained model\n",
    "    x_train,x_test,y_train,y_test=train_test_split(x,y,test_size=test_size)\n",
    "    #validation: test on unseen data, but model may end up learning it as we tweak to maximise validation accuracy\n",
    "    x_train,x_validation,y_train,y_validation=train_test_split(x_train,y_train,test_size=validation_size)\n",
    "    x_train=x_train[...,np.newaxis]\n",
    "    x_validation=x_validation[...,np.newaxis]\n",
    "    x_test=x_test[...,np.newaxis]\n",
    "    return x_train,x_test,y_train,y_test, x_validation, y_validation  "
   ]
  },
  {
   "cell_type": "markdown",
   "id": "b442ec35",
   "metadata": {},
   "source": [
    "Data structure:\n",
    "\n",
    "$x_{train}.\\texttt{shape}=(\\text{num samples},\\text{num time intervals}, \\text{num MFCC variables},\\text{depth})$\n",
    "\n",
    "$x_{validate}.\\texttt{shape}=(\\text{num samples},\\text{num time intervals}, \\text{num MFCC variables},\\text{depth})$\n",
    "\n",
    "$x_{test}.\\texttt{shape}=(\\text{num samples},\\text{num time intervals}, \\text{num MFCC variables},\\text{depth})$\n",
    "\n",
    "\n",
    "\n",
    "Where $\\text{depth}=1$"
   ]
  },
  {
   "cell_type": "code",
   "execution_count": 5,
   "id": "0b6343c3",
   "metadata": {},
   "outputs": [],
   "source": [
    "x_train,x_test,y_train,y_test, x_validation, y_validation = prepare_datasets(x,y,0.25,0.2, \"data.json\")"
   ]
  },
  {
   "cell_type": "code",
   "execution_count": 6,
   "id": "1be15f70",
   "metadata": {},
   "outputs": [
    {
     "data": {
      "text/plain": [
       "(864, 94, 13, 1)"
      ]
     },
     "execution_count": 6,
     "metadata": {},
     "output_type": "execute_result"
    }
   ],
   "source": [
    "#(num samples, num intervals, num variables, num channels)\n",
    "x_train.shape"
   ]
  },
  {
   "cell_type": "markdown",
   "id": "3f3cb0ea",
   "metadata": {},
   "source": [
    "<h2>Models</h2>\n",
    "<h3>Model Design 1: Convolutional Neural Network</h3>\n",
    "For this model, I opt for a traditional CNN design: three pooled convolutional layers, followed by a single fully connected layer and an output layer, implemented in Tensorflow's Keras environment."
   ]
  },
  {
   "cell_type": "code",
   "execution_count": 7,
   "id": "943d6c63",
   "metadata": {},
   "outputs": [],
   "source": [
    "import tensorflow.keras as keras\n",
    "\"\"\"\n",
    "Creates a model of three pooled convolutional layers, followed by a single fully connected layer and an output layer.\n",
    "@param input_shape: the structure of SINGLE value x_i (omits the first dimension of x which is the total number of samples.)\n",
    "@return uncompiled keras model of the CNN.\n",
    "\"\"\"\n",
    "def build_model_cnn(input_shape,dropout_rate=0):\n",
    "    model=keras.Sequential()\n",
    "    #CONV LAYER 1\n",
    "    model.add(keras.layers.Conv2D(filters=32,kernel_size=(3,3),activation=\"relu\", input_shape=input_shape))\n",
    "    model.add(keras.layers.MaxPool2D(pool_size=(3,3),strides=(2,2), padding='same'))\n",
    "    #Batch normalisation: process that normalises the activations in the current layer for output to the next layer.\n",
    "    #Speeds up training (faster convergence) and reliability.\n",
    "    model.add(keras.layers.BatchNormalization())\n",
    "\n",
    "    #CONV LAYER 2\n",
    "    model.add(keras.layers.Conv2D(filters=32,kernel_size=(3,3),activation=\"relu\", input_shape=input_shape))\n",
    "    model.add(keras.layers.MaxPool2D(pool_size=(3,3),strides=(2,2), padding='same'))\n",
    "    model.add(keras.layers.BatchNormalization())   \n",
    "\n",
    "    #CONV LAYER 3\n",
    "    # we shrink the kernal size\n",
    "    model.add(keras.layers.Conv2D(filters=32,kernel_size=(2,2),activation=\"relu\", input_shape=input_shape))\n",
    "    model.add(keras.layers.MaxPool2D(pool_size=(2,2),strides=(2,2), padding='same'))\n",
    "    model.add(keras.layers.BatchNormalization()) \n",
    "\n",
    "    #flatten into dense layer\n",
    "    model.add(keras.layers.Flatten())\n",
    "    model.add(keras.layers.Dense(64,activation=\"relu\"))\n",
    "    model.add(keras.layers.Dropout(dropout_rate))  \n",
    "    \n",
    "    #output layer\n",
    "    #a fully connected layer for classification\n",
    "    NUMBEROFPOSSIBLEOUTPUTS=4\n",
    "    model.add(keras.layers.Dense(NUMBEROFPOSSIBLEOUTPUTS,activation='softmax'))\n",
    "    \n",
    "    return model"
   ]
  },
  {
   "cell_type": "markdown",
   "id": "13914726",
   "metadata": {},
   "source": []
  },
  {
   "cell_type": "code",
   "execution_count": 8,
   "id": "a83ef1ea",
   "metadata": {},
   "outputs": [
    {
     "name": "stdout",
     "output_type": "stream",
     "text": [
      "Model: \"sequential\"\n",
      "_________________________________________________________________\n",
      "Layer (type)                 Output Shape              Param #   \n",
      "=================================================================\n",
      "conv2d (Conv2D)              (None, 92, 11, 32)        320       \n",
      "_________________________________________________________________\n",
      "max_pooling2d (MaxPooling2D) (None, 46, 6, 32)         0         \n",
      "_________________________________________________________________\n",
      "batch_normalization (BatchNo (None, 46, 6, 32)         128       \n",
      "_________________________________________________________________\n",
      "conv2d_1 (Conv2D)            (None, 44, 4, 32)         9248      \n",
      "_________________________________________________________________\n",
      "max_pooling2d_1 (MaxPooling2 (None, 22, 2, 32)         0         \n",
      "_________________________________________________________________\n",
      "batch_normalization_1 (Batch (None, 22, 2, 32)         128       \n",
      "_________________________________________________________________\n",
      "conv2d_2 (Conv2D)            (None, 21, 1, 32)         4128      \n",
      "_________________________________________________________________\n",
      "max_pooling2d_2 (MaxPooling2 (None, 11, 1, 32)         0         \n",
      "_________________________________________________________________\n",
      "batch_normalization_2 (Batch (None, 11, 1, 32)         128       \n",
      "_________________________________________________________________\n",
      "flatten (Flatten)            (None, 352)               0         \n",
      "_________________________________________________________________\n",
      "dense (Dense)                (None, 64)                22592     \n",
      "_________________________________________________________________\n",
      "dropout (Dropout)            (None, 64)                0         \n",
      "_________________________________________________________________\n",
      "dense_1 (Dense)              (None, 4)                 260       \n",
      "=================================================================\n",
      "Total params: 36,932\n",
      "Trainable params: 36,740\n",
      "Non-trainable params: 192\n",
      "_________________________________________________________________\n"
     ]
    }
   ],
   "source": [
    "#each sample has the shape (n,130,13,1) <- (num samples,intervals,variables,channels)\n",
    "input_shape=(x_train.shape[1], x_train.shape[2], x_train.shape[3])\n",
    "model_cnn = build_model_cnn(input_shape,dropout_rate=0.4)\n",
    "\n",
    "model_cnn.summary()"
   ]
  },
  {
   "cell_type": "markdown",
   "id": "d99b93b9",
   "metadata": {},
   "source": [
    "<h3>Model Design 2: Dense Neural N2towrk</h3>\n",
    "For this model, I opt for a traditional MLP design: three hidden convolutional layers and an output layer, implemented in Tensorflow's Keras environment."
   ]
  },
  {
   "cell_type": "code",
   "execution_count": 9,
   "id": "785ee95c",
   "metadata": {},
   "outputs": [],
   "source": [
    "def build_model_dense(input_shape,dropout_rate=0):\n",
    "    model=keras.Sequential()\n",
    "    #Flatten Layer\n",
    "    model.add(keras.layers.Flatten(input_shape=input_shape))\n",
    "    #Dense Layer 1\n",
    "    model.add(keras.layers.Dense(512,activation=\"relu\"))\n",
    "    model.add(keras.layers.Dropout(dropout_rate))\n",
    "    #Dense Layer 2\n",
    "    model.add(keras.layers.Dense(256,activation=\"relu\"))\n",
    "    model.add(keras.layers.Dropout(dropout_rate))              \n",
    "    #Dense Layer 3\n",
    "    model.add(keras.layers.Dense(64,activation=\"relu\"))\n",
    "    model.add(keras.layers.Dropout(dropout_rate))\n",
    "    #Output Layer\n",
    "    NUMOUTPUTS=4\n",
    "    model.add(keras.layers.Dense(NUMOUTPUTS,activation=\"softmax\"))\n",
    "    return model"
   ]
  },
  {
   "cell_type": "code",
   "execution_count": 10,
   "id": "dd43c320",
   "metadata": {},
   "outputs": [
    {
     "name": "stdout",
     "output_type": "stream",
     "text": [
      "Model: \"sequential_1\"\n",
      "_________________________________________________________________\n",
      "Layer (type)                 Output Shape              Param #   \n",
      "=================================================================\n",
      "flatten_1 (Flatten)          (None, 1222)              0         \n",
      "_________________________________________________________________\n",
      "dropout_1 (Dropout)          (None, 1222)              0         \n",
      "_________________________________________________________________\n",
      "dense_2 (Dense)              (None, 512)               626176    \n",
      "_________________________________________________________________\n",
      "dropout_2 (Dropout)          (None, 512)               0         \n",
      "_________________________________________________________________\n",
      "dense_3 (Dense)              (None, 256)               131328    \n",
      "_________________________________________________________________\n",
      "dropout_3 (Dropout)          (None, 256)               0         \n",
      "_________________________________________________________________\n",
      "dense_4 (Dense)              (None, 64)                16448     \n",
      "_________________________________________________________________\n",
      "dropout_4 (Dropout)          (None, 64)                0         \n",
      "_________________________________________________________________\n",
      "dense_5 (Dense)              (None, 4)                 260       \n",
      "=================================================================\n",
      "Total params: 774,212\n",
      "Trainable params: 774,212\n",
      "Non-trainable params: 0\n",
      "_________________________________________________________________\n"
     ]
    }
   ],
   "source": [
    "input_shape_dense=(x.shape[1],x.shape[2])\n",
    "model_dense = build_model_dense(input_shape=input_shape, dropout_rate=0.1)\n",
    "model_dense.summary()\n",
    "#model_dense.build()"
   ]
  },
  {
   "cell_type": "code",
   "execution_count": 11,
   "id": "ff4c26af",
   "metadata": {},
   "outputs": [],
   "source": [
    "#Adam is a very very effecting sgd variant for deep learning\n",
    "optimizer = keras.optimizers.Adam(learning_rate=0.0001)\n",
    "#put all the components together\n",
    "model_dense.compile(optimizer=optimizer,\n",
    "              loss=\"sparse_categorical_crossentropy\", \n",
    "              metrics=[\"accuracy\"]\n",
    "              )"
   ]
  },
  {
   "cell_type": "markdown",
   "id": "51f8e779",
   "metadata": {},
   "source": [
    "<h3>Compiling the model</h3>\n",
    "<ul><b>Optimizer</b>: Adam</ul>\n",
    "<ul><b>Loss Function</b>: sparse_categorical_crossentropy - a powerful tool for categorization tasks.</ul>\n",
    "<ul><b>Metrics</b>: accuracy</ul>"
   ]
  },
  {
   "cell_type": "code",
   "execution_count": 12,
   "id": "8fdf69a5",
   "metadata": {},
   "outputs": [],
   "source": [
    "#Adam is a very very effecting sgd variant for deep learning\n",
    "optimizer = keras.optimizers.Adam(learning_rate=0.0001)\n",
    "#put all the components together\n",
    "model_cnn.compile(optimizer=optimizer,\n",
    "              loss=\"sparse_categorical_crossentropy\", \n",
    "              metrics=[\"accuracy\"]\n",
    "              )"
   ]
  },
  {
   "cell_type": "markdown",
   "id": "eaefd903",
   "metadata": {},
   "source": [
    "<h2>Training the Models</h2>\n",
    "We fit the model to our training data and validate it against our validation data."
   ]
  },
  {
   "cell_type": "code",
   "execution_count": 29,
   "id": "70bc2eea",
   "metadata": {},
   "outputs": [
    {
     "name": "stdout",
     "output_type": "stream",
     "text": [
      "Epoch 1/50\n",
      "27/27 [==============================] - 0s 5ms/step - loss: 0.0183 - accuracy: 0.9965 - val_loss: 0.0247 - val_accuracy: 0.9907\n",
      "Epoch 2/50\n",
      "27/27 [==============================] - 0s 4ms/step - loss: 0.0182 - accuracy: 0.9942 - val_loss: 0.0364 - val_accuracy: 0.9815\n",
      "Epoch 3/50\n",
      "27/27 [==============================] - 0s 4ms/step - loss: 0.0128 - accuracy: 0.9977 - val_loss: 0.0372 - val_accuracy: 0.9861\n",
      "Epoch 4/50\n",
      "27/27 [==============================] - 0s 4ms/step - loss: 0.0185 - accuracy: 0.9942 - val_loss: 0.0325 - val_accuracy: 0.9815\n",
      "Epoch 5/50\n",
      "27/27 [==============================] - 0s 4ms/step - loss: 0.0135 - accuracy: 0.9965 - val_loss: 0.0380 - val_accuracy: 0.9815\n",
      "Epoch 6/50\n",
      "27/27 [==============================] - 0s 4ms/step - loss: 0.0103 - accuracy: 0.9988 - val_loss: 0.0248 - val_accuracy: 0.9907\n",
      "Epoch 7/50\n",
      "27/27 [==============================] - 0s 4ms/step - loss: 0.0152 - accuracy: 0.9965 - val_loss: 0.0328 - val_accuracy: 0.9861\n",
      "Epoch 8/50\n",
      "27/27 [==============================] - 0s 4ms/step - loss: 0.0067 - accuracy: 1.0000 - val_loss: 0.0213 - val_accuracy: 0.9954\n",
      "Epoch 9/50\n",
      "27/27 [==============================] - 0s 4ms/step - loss: 0.0141 - accuracy: 0.9965 - val_loss: 0.0391 - val_accuracy: 0.9815\n",
      "Epoch 10/50\n",
      "27/27 [==============================] - 0s 4ms/step - loss: 0.0072 - accuracy: 1.0000 - val_loss: 0.0266 - val_accuracy: 0.9907\n",
      "Epoch 11/50\n",
      "27/27 [==============================] - 0s 4ms/step - loss: 0.0129 - accuracy: 0.9965 - val_loss: 0.0233 - val_accuracy: 0.9954\n",
      "Epoch 12/50\n",
      "27/27 [==============================] - 0s 4ms/step - loss: 0.0038 - accuracy: 1.0000 - val_loss: 0.0218 - val_accuracy: 0.9907\n",
      "Epoch 13/50\n",
      "27/27 [==============================] - 0s 4ms/step - loss: 0.0072 - accuracy: 1.0000 - val_loss: 0.0250 - val_accuracy: 0.9861\n",
      "Epoch 14/50\n",
      "27/27 [==============================] - 0s 4ms/step - loss: 0.0109 - accuracy: 0.9988 - val_loss: 0.0293 - val_accuracy: 0.9861\n",
      "Epoch 15/50\n",
      "27/27 [==============================] - 0s 4ms/step - loss: 0.0059 - accuracy: 1.0000 - val_loss: 0.0229 - val_accuracy: 0.9861\n",
      "Epoch 16/50\n",
      "27/27 [==============================] - 0s 4ms/step - loss: 0.0088 - accuracy: 0.9977 - val_loss: 0.0241 - val_accuracy: 0.9861\n",
      "Epoch 17/50\n",
      "27/27 [==============================] - 0s 4ms/step - loss: 0.0082 - accuracy: 0.9965 - val_loss: 0.0201 - val_accuracy: 0.9954\n",
      "Epoch 18/50\n",
      "27/27 [==============================] - 0s 4ms/step - loss: 0.0091 - accuracy: 0.9977 - val_loss: 0.0258 - val_accuracy: 0.9954\n",
      "Epoch 19/50\n",
      "27/27 [==============================] - 0s 4ms/step - loss: 0.0072 - accuracy: 0.9988 - val_loss: 0.0226 - val_accuracy: 0.9861\n",
      "Epoch 20/50\n",
      "27/27 [==============================] - 0s 4ms/step - loss: 0.0062 - accuracy: 0.9988 - val_loss: 0.0260 - val_accuracy: 0.9907\n",
      "Epoch 21/50\n",
      "27/27 [==============================] - 0s 4ms/step - loss: 0.0061 - accuracy: 0.9988 - val_loss: 0.0339 - val_accuracy: 0.9815\n",
      "Epoch 22/50\n",
      "27/27 [==============================] - 0s 4ms/step - loss: 0.0060 - accuracy: 0.9988 - val_loss: 0.0349 - val_accuracy: 0.9769\n",
      "Epoch 23/50\n",
      "27/27 [==============================] - 0s 4ms/step - loss: 0.0088 - accuracy: 1.0000 - val_loss: 0.0231 - val_accuracy: 0.9907\n",
      "Epoch 24/50\n",
      "27/27 [==============================] - 0s 4ms/step - loss: 0.0094 - accuracy: 0.9977 - val_loss: 0.0181 - val_accuracy: 0.9907\n",
      "Epoch 25/50\n",
      "27/27 [==============================] - 0s 4ms/step - loss: 0.0053 - accuracy: 0.9988 - val_loss: 0.0212 - val_accuracy: 0.9907\n",
      "Epoch 26/50\n",
      "27/27 [==============================] - 0s 4ms/step - loss: 0.0094 - accuracy: 0.9977 - val_loss: 0.0285 - val_accuracy: 0.9861\n",
      "Epoch 27/50\n",
      "27/27 [==============================] - 0s 4ms/step - loss: 0.0109 - accuracy: 0.9965 - val_loss: 0.0215 - val_accuracy: 0.9861\n",
      "Epoch 28/50\n",
      "27/27 [==============================] - 0s 4ms/step - loss: 0.0054 - accuracy: 1.0000 - val_loss: 0.0208 - val_accuracy: 0.9907\n",
      "Epoch 29/50\n",
      "27/27 [==============================] - 0s 4ms/step - loss: 0.0122 - accuracy: 0.9965 - val_loss: 0.0634 - val_accuracy: 0.9769\n",
      "Epoch 30/50\n",
      "27/27 [==============================] - 0s 4ms/step - loss: 0.0059 - accuracy: 0.9977 - val_loss: 0.0165 - val_accuracy: 0.9907\n",
      "Epoch 31/50\n",
      "27/27 [==============================] - 0s 4ms/step - loss: 0.0064 - accuracy: 1.0000 - val_loss: 0.0266 - val_accuracy: 0.9861\n",
      "Epoch 32/50\n",
      "27/27 [==============================] - 0s 4ms/step - loss: 0.0051 - accuracy: 0.9988 - val_loss: 0.0235 - val_accuracy: 0.9907\n",
      "Epoch 33/50\n",
      "27/27 [==============================] - 0s 4ms/step - loss: 0.0050 - accuracy: 1.0000 - val_loss: 0.0188 - val_accuracy: 0.9907\n",
      "Epoch 34/50\n",
      "27/27 [==============================] - 0s 4ms/step - loss: 0.0050 - accuracy: 1.0000 - val_loss: 0.0195 - val_accuracy: 0.9907\n",
      "Epoch 35/50\n",
      "27/27 [==============================] - 0s 4ms/step - loss: 0.0080 - accuracy: 0.9988 - val_loss: 0.0325 - val_accuracy: 0.9954\n",
      "Epoch 36/50\n",
      "27/27 [==============================] - 0s 4ms/step - loss: 0.0072 - accuracy: 0.9977 - val_loss: 0.0239 - val_accuracy: 0.9907\n",
      "Epoch 37/50\n",
      "27/27 [==============================] - 0s 4ms/step - loss: 0.0102 - accuracy: 0.9977 - val_loss: 0.0247 - val_accuracy: 0.9861\n",
      "Epoch 38/50\n",
      "27/27 [==============================] - 0s 4ms/step - loss: 0.0102 - accuracy: 0.9977 - val_loss: 0.0247 - val_accuracy: 0.9861\n",
      "Epoch 39/50\n",
      "27/27 [==============================] - 0s 4ms/step - loss: 0.0060 - accuracy: 0.9988 - val_loss: 0.0282 - val_accuracy: 0.9815\n",
      "Epoch 40/50\n",
      "27/27 [==============================] - 0s 4ms/step - loss: 0.0116 - accuracy: 0.9954 - val_loss: 0.0289 - val_accuracy: 0.9815\n",
      "Epoch 41/50\n",
      "27/27 [==============================] - 0s 4ms/step - loss: 0.0065 - accuracy: 0.9977 - val_loss: 0.0191 - val_accuracy: 0.9861\n",
      "Epoch 42/50\n",
      "27/27 [==============================] - 0s 4ms/step - loss: 0.0032 - accuracy: 1.0000 - val_loss: 0.0159 - val_accuracy: 0.9954\n",
      "Epoch 43/50\n",
      "27/27 [==============================] - 0s 4ms/step - loss: 0.0039 - accuracy: 1.0000 - val_loss: 0.0200 - val_accuracy: 0.9907\n",
      "Epoch 44/50\n",
      "27/27 [==============================] - 0s 4ms/step - loss: 0.0032 - accuracy: 1.0000 - val_loss: 0.0219 - val_accuracy: 0.9954\n",
      "Epoch 45/50\n",
      "27/27 [==============================] - 0s 4ms/step - loss: 0.0036 - accuracy: 1.0000 - val_loss: 0.0219 - val_accuracy: 0.9907\n",
      "Epoch 46/50\n",
      "27/27 [==============================] - 0s 4ms/step - loss: 0.0034 - accuracy: 1.0000 - val_loss: 0.0229 - val_accuracy: 0.9861\n",
      "Epoch 47/50\n",
      "27/27 [==============================] - 0s 4ms/step - loss: 0.0030 - accuracy: 1.0000 - val_loss: 0.0218 - val_accuracy: 0.9907\n",
      "Epoch 48/50\n",
      "27/27 [==============================] - 0s 4ms/step - loss: 0.0035 - accuracy: 0.9988 - val_loss: 0.0168 - val_accuracy: 1.0000\n",
      "Epoch 49/50\n",
      "27/27 [==============================] - 0s 4ms/step - loss: 0.0025 - accuracy: 1.0000 - val_loss: 0.0176 - val_accuracy: 0.9907\n",
      "Epoch 50/50\n",
      "27/27 [==============================] - 0s 4ms/step - loss: 0.0046 - accuracy: 0.9988 - val_loss: 0.0274 - val_accuracy: 0.9861\n",
      "Run Complete. Time taken: 5.422270699999899\n"
     ]
    }
   ],
   "source": [
    "#stores the progression of several metrics as the model trains.\n",
    "import time\n",
    "startTime = time.perf_counter()\n",
    "history_cnn = model_cnn.fit(x_train,y_train,validation_data=(x_validation,y_validation),epochs=50)\n",
    "endTime = time.perf_counter()\n",
    "print (\"Run Complete. Time taken:\",endTime-startTime)"
   ]
  },
  {
   "cell_type": "code",
   "execution_count": 30,
   "id": "fe7d28d6",
   "metadata": {},
   "outputs": [
    {
     "name": "stdout",
     "output_type": "stream",
     "text": [
      "Epoch 1/50\n",
      "27/27 [==============================] - 0s 4ms/step - loss: 0.0510 - accuracy: 0.9896 - val_loss: 0.8547 - val_accuracy: 0.8889\n",
      "Epoch 2/50\n",
      "27/27 [==============================] - 0s 3ms/step - loss: 0.0315 - accuracy: 0.9873 - val_loss: 0.8057 - val_accuracy: 0.8917\n",
      "Epoch 3/50\n",
      "27/27 [==============================] - 0s 3ms/step - loss: 0.0337 - accuracy: 0.9884 - val_loss: 0.7554 - val_accuracy: 0.8944\n",
      "Epoch 4/50\n",
      "27/27 [==============================] - 0s 3ms/step - loss: 0.0448 - accuracy: 0.9815 - val_loss: 0.7680 - val_accuracy: 0.8833\n",
      "Epoch 5/50\n",
      "27/27 [==============================] - 0s 3ms/step - loss: 0.0634 - accuracy: 0.9815 - val_loss: 1.0318 - val_accuracy: 0.8639\n",
      "Epoch 6/50\n",
      "27/27 [==============================] - 0s 3ms/step - loss: 0.0744 - accuracy: 0.9745 - val_loss: 0.7029 - val_accuracy: 0.8861\n",
      "Epoch 7/50\n",
      "27/27 [==============================] - 0s 3ms/step - loss: 0.0612 - accuracy: 0.9803 - val_loss: 0.9376 - val_accuracy: 0.8528\n",
      "Epoch 8/50\n",
      "27/27 [==============================] - 0s 3ms/step - loss: 0.0406 - accuracy: 0.9861 - val_loss: 0.8438 - val_accuracy: 0.8778\n",
      "Epoch 9/50\n",
      "27/27 [==============================] - 0s 3ms/step - loss: 0.0427 - accuracy: 0.9826 - val_loss: 0.6927 - val_accuracy: 0.9000\n",
      "Epoch 10/50\n",
      "27/27 [==============================] - 0s 3ms/step - loss: 0.0179 - accuracy: 0.9954 - val_loss: 0.8094 - val_accuracy: 0.8833\n",
      "Epoch 11/50\n",
      "27/27 [==============================] - 0s 3ms/step - loss: 0.0392 - accuracy: 0.9884 - val_loss: 0.7479 - val_accuracy: 0.8944\n",
      "Epoch 12/50\n",
      "27/27 [==============================] - 0s 3ms/step - loss: 0.0462 - accuracy: 0.9884 - val_loss: 0.8162 - val_accuracy: 0.8917\n",
      "Epoch 13/50\n",
      "27/27 [==============================] - 0s 3ms/step - loss: 0.0246 - accuracy: 0.9919 - val_loss: 0.9123 - val_accuracy: 0.8833\n",
      "Epoch 14/50\n",
      "27/27 [==============================] - 0s 3ms/step - loss: 0.0418 - accuracy: 0.9861 - val_loss: 1.1246 - val_accuracy: 0.8778\n",
      "Epoch 15/50\n",
      "27/27 [==============================] - 0s 3ms/step - loss: 0.0545 - accuracy: 0.9838 - val_loss: 0.8525 - val_accuracy: 0.8861\n",
      "Epoch 16/50\n",
      "27/27 [==============================] - 0s 3ms/step - loss: 0.0316 - accuracy: 0.9896 - val_loss: 0.7733 - val_accuracy: 0.8889\n",
      "Epoch 17/50\n",
      "27/27 [==============================] - 0s 3ms/step - loss: 0.0512 - accuracy: 0.9873 - val_loss: 1.3303 - val_accuracy: 0.8472\n",
      "Epoch 18/50\n",
      "27/27 [==============================] - 0s 3ms/step - loss: 0.1074 - accuracy: 0.9745 - val_loss: 0.7542 - val_accuracy: 0.8889\n",
      "Epoch 19/50\n",
      "27/27 [==============================] - 0s 3ms/step - loss: 0.0516 - accuracy: 0.9873 - val_loss: 0.7940 - val_accuracy: 0.8917\n",
      "Epoch 20/50\n",
      "27/27 [==============================] - 0s 3ms/step - loss: 0.0370 - accuracy: 0.9873 - val_loss: 1.0412 - val_accuracy: 0.8722\n",
      "Epoch 21/50\n",
      "27/27 [==============================] - 0s 3ms/step - loss: 0.0621 - accuracy: 0.9826 - val_loss: 0.9341 - val_accuracy: 0.8778\n",
      "Epoch 22/50\n",
      "27/27 [==============================] - 0s 3ms/step - loss: 0.0172 - accuracy: 0.9954 - val_loss: 0.8853 - val_accuracy: 0.8750\n",
      "Epoch 23/50\n",
      "27/27 [==============================] - 0s 3ms/step - loss: 0.0261 - accuracy: 0.9942 - val_loss: 1.0804 - val_accuracy: 0.8694\n",
      "Epoch 24/50\n",
      "27/27 [==============================] - 0s 3ms/step - loss: 0.0791 - accuracy: 0.9838 - val_loss: 0.7801 - val_accuracy: 0.9028\n",
      "Epoch 25/50\n",
      "27/27 [==============================] - 0s 3ms/step - loss: 0.0298 - accuracy: 0.9907 - val_loss: 0.9613 - val_accuracy: 0.8639\n",
      "Epoch 26/50\n",
      "27/27 [==============================] - 0s 3ms/step - loss: 0.0304 - accuracy: 0.9896 - val_loss: 0.8032 - val_accuracy: 0.8778\n",
      "Epoch 27/50\n",
      "27/27 [==============================] - 0s 3ms/step - loss: 0.0317 - accuracy: 0.9907 - val_loss: 1.0101 - val_accuracy: 0.8694\n",
      "Epoch 28/50\n",
      "27/27 [==============================] - 0s 4ms/step - loss: 0.0559 - accuracy: 0.9838 - val_loss: 0.9524 - val_accuracy: 0.8639\n",
      "Epoch 29/50\n",
      "27/27 [==============================] - 0s 3ms/step - loss: 0.0523 - accuracy: 0.9803 - val_loss: 0.7884 - val_accuracy: 0.8806\n",
      "Epoch 30/50\n",
      "27/27 [==============================] - 0s 3ms/step - loss: 0.0453 - accuracy: 0.9826 - val_loss: 0.8876 - val_accuracy: 0.8722\n",
      "Epoch 31/50\n",
      "27/27 [==============================] - 0s 3ms/step - loss: 0.0510 - accuracy: 0.9850 - val_loss: 0.9324 - val_accuracy: 0.8750\n",
      "Epoch 32/50\n",
      "27/27 [==============================] - 0s 3ms/step - loss: 0.0527 - accuracy: 0.9861 - val_loss: 0.9121 - val_accuracy: 0.8778\n",
      "Epoch 33/50\n",
      "27/27 [==============================] - 0s 3ms/step - loss: 0.0518 - accuracy: 0.9861 - val_loss: 0.7611 - val_accuracy: 0.8833\n",
      "Epoch 34/50\n",
      "27/27 [==============================] - 0s 4ms/step - loss: 0.0416 - accuracy: 0.9884 - val_loss: 0.6996 - val_accuracy: 0.8861\n",
      "Epoch 35/50\n",
      "27/27 [==============================] - 0s 3ms/step - loss: 0.0490 - accuracy: 0.9850 - val_loss: 0.8603 - val_accuracy: 0.8750\n",
      "Epoch 36/50\n",
      "27/27 [==============================] - 0s 3ms/step - loss: 0.0320 - accuracy: 0.9907 - val_loss: 0.7121 - val_accuracy: 0.8889\n",
      "Epoch 37/50\n",
      "27/27 [==============================] - 0s 3ms/step - loss: 0.0331 - accuracy: 0.9907 - val_loss: 0.7637 - val_accuracy: 0.8861\n",
      "Epoch 38/50\n",
      "27/27 [==============================] - 0s 3ms/step - loss: 0.0231 - accuracy: 0.9931 - val_loss: 0.7883 - val_accuracy: 0.8944\n",
      "Epoch 39/50\n",
      "27/27 [==============================] - 0s 3ms/step - loss: 0.0137 - accuracy: 0.9977 - val_loss: 0.8424 - val_accuracy: 0.8694\n",
      "Epoch 40/50\n",
      "27/27 [==============================] - 0s 3ms/step - loss: 0.0318 - accuracy: 0.9884 - val_loss: 0.7746 - val_accuracy: 0.8806\n",
      "Epoch 41/50\n",
      "27/27 [==============================] - 0s 3ms/step - loss: 0.0549 - accuracy: 0.9861 - val_loss: 0.7514 - val_accuracy: 0.8833\n",
      "Epoch 42/50\n",
      "27/27 [==============================] - 0s 3ms/step - loss: 0.0186 - accuracy: 0.9931 - val_loss: 0.7222 - val_accuracy: 0.8889\n",
      "Epoch 43/50\n",
      "27/27 [==============================] - 0s 3ms/step - loss: 0.0078 - accuracy: 0.9988 - val_loss: 0.7438 - val_accuracy: 0.8889\n",
      "Epoch 44/50\n",
      "27/27 [==============================] - 0s 3ms/step - loss: 0.0297 - accuracy: 0.9861 - val_loss: 0.7296 - val_accuracy: 0.9056\n",
      "Epoch 45/50\n",
      "27/27 [==============================] - 0s 3ms/step - loss: 0.0144 - accuracy: 0.9942 - val_loss: 0.7799 - val_accuracy: 0.9028\n",
      "Epoch 46/50\n",
      "27/27 [==============================] - 0s 3ms/step - loss: 0.0466 - accuracy: 0.9850 - val_loss: 0.8762 - val_accuracy: 0.8889\n",
      "Epoch 47/50\n",
      "27/27 [==============================] - 0s 3ms/step - loss: 0.0244 - accuracy: 0.9931 - val_loss: 0.8844 - val_accuracy: 0.8944\n",
      "Epoch 48/50\n",
      "27/27 [==============================] - 0s 3ms/step - loss: 0.0312 - accuracy: 0.9907 - val_loss: 1.0517 - val_accuracy: 0.8750\n",
      "Epoch 49/50\n",
      "27/27 [==============================] - 0s 3ms/step - loss: 0.0151 - accuracy: 0.9931 - val_loss: 1.0675 - val_accuracy: 0.8750\n",
      "Epoch 50/50\n",
      "27/27 [==============================] - 0s 3ms/step - loss: 0.0070 - accuracy: 0.9977 - val_loss: 1.1317 - val_accuracy: 0.8778\n",
      "Run Complete. Time taken: 4.585436999999729\n"
     ]
    }
   ],
   "source": [
    "import time\n",
    "startTime = time.perf_counter()\n",
    "history_dense = model_dense.fit(x_train, y_train, validation_data=(x_test, y_test),epochs=50, batch_size=32)\n",
    "endTime = time.perf_counter()\n",
    "print (\"Run Complete. Time taken:\",endTime-startTime)"
   ]
  },
  {
   "cell_type": "markdown",
   "id": "cd9cd653",
   "metadata": {},
   "source": [
    "<h2>Evaluating the Trained Model</h2>\n",
    "We plot the history of the model across epochs with respect to accuracy and error using the $\\texttt{plot_history(...)}$ function provided by Valerio Velardo in \n",
    "\n",
    "https://www.youtube.com/watch?v=_xcFAiufwd0&list=PL-wATfeyAMNrtbkCNsLcpoAyBBRJZVlnf&index=13"
   ]
  },
  {
   "cell_type": "code",
   "execution_count": 24,
   "id": "c3fcee5e",
   "metadata": {},
   "outputs": [],
   "source": [
    "import matplotlib.pyplot as plt"
   ]
  },
  {
   "cell_type": "markdown",
   "id": "3b80ae58",
   "metadata": {},
   "source": [
    "It is clear that the model has trained well and consistently achieves accuracy above $97 \\%$ on the validation set. It seems to converge to this value after about 20 epochs."
   ]
  },
  {
   "cell_type": "code",
   "execution_count": 52,
   "id": "70baa86c",
   "metadata": {},
   "outputs": [
    {
     "data": {
      "image/png": "[encoded data removed]",
      "text/plain": [
       "<Figure size 720x432 with 4 Axes>"
      ]
     },
     "metadata": {
      "needs_background": "light"
     },
     "output_type": "display_data"
    }
   ],
   "source": [
    "def plot_accuracy_histories(histories, labels):\n",
    "    fig,axs = plt.subplots(2,2,figsize=(10,6))\n",
    "    \n",
    "    pos=0\n",
    "    for history in histories:\n",
    "        axs[0,0].plot(history.history[\"accuracy\"],label=\"train accuracy {}\".format((labels[pos])))\n",
    "        pos=pos+1\n",
    "    #loc sets location\n",
    "    axs[0,0].legend(loc=\"lower right\")\n",
    "    axs[0,0].set_title(\"Training Accuracy Evaluation\")\n",
    "    axs[0,0].set_ylabel(\"accuracy\")\n",
    "    axs[0,0].set_xlabel(\"epoch\")\n",
    "    pos=0\n",
    "    \n",
    "    for history in histories:\n",
    "        axs[0,1].plot(history.history[\"val_accuracy\"],label=\"test accuracy {}\".format(labels[pos]))\n",
    "        #loc sets location\n",
    "        pos=pos+1\n",
    "    axs[0,1].legend(loc=\"lower right\")\n",
    "    axs[0,1].set_title(\"Test Accuracy Evaluation\")\n",
    "    axs[0,1].set_ylabel(\"accuracy\")\n",
    "    axs[0,1].set_xlabel(\"epoch\")   \n",
    "    pos=0\n",
    "    \n",
    "    for history in histories:\n",
    "        axs[1,0].plot(history.history[\"loss\"],label=\"train error {}\".format(labels[pos]))\n",
    "        pos=pos+1\n",
    "    axs[1,0].set_ylabel(\"error\")\n",
    "    #loc sets location\n",
    "    axs[1,0].legend(loc=\"lower right\")\n",
    "    axs[1,0].set_title(\"Training Error Evaluation\")\n",
    "    axs[1,0].set_xlabel(\"epoch\")\n",
    "        \n",
    "    pos=0\n",
    "    for history in histories:\n",
    "        axs[1,1].plot(history.history[\"val_loss\"],label=\"test error {}\".format(labels[pos]))\n",
    "        pos=pos+1\n",
    "    axs[1,1].set_ylabel(\"error\")\n",
    "    #loc sets location\n",
    "    axs[1,1].legend(loc=\"lower right\")\n",
    "    axs[1,1].set_title(\"Test Error Evaluation\")\n",
    "    axs[1,1].set_xlabel(\"error\")\n",
    "    axs[1,1].set_xlabel(\"epoch\")\n",
    "    #just keeps the images from overlapping\n",
    "    fig.tight_layout() \n",
    "    #plt.show()\n",
    "    plt.savefig('accuracyMeasures.png')\n",
    "\n",
    "plot_accuracy_histories([history_cnn,history_dense],labels=[\"cnn\",\"dense\"])"
   ]
  },
  {
   "cell_type": "markdown",
   "id": "966e634d",
   "metadata": {},
   "source": [
    "A simple prediction function."
   ]
  },
  {
   "cell_type": "code",
   "execution_count": 17,
   "id": "97d80927",
   "metadata": {},
   "outputs": [
    {
     "name": "stdout",
     "output_type": "stream",
     "text": [
      "Testing Sample Number  76\n",
      "We predict:singing\n",
      "Actual answer is:singing\n"
     ]
    }
   ],
   "source": [
    "\"\"\"\n",
    "see whether the model makes  the correct prediction about a sample\n",
    "@param x_n: the input mfcc data\n",
    "@param y_n: the true label of the data\n",
    "@param cats: the text representation of the output categories\n",
    "@return a string describing the prediction and the actual label of x_n\n",
    "\"\"\"\n",
    "def predict(x_n, y_n,cats):\n",
    "    #predict expects a batch of values as input.\n",
    "    # it should be the first value in x_n.shape\n",
    "    x_n=x_n[np.newaxis,...]\n",
    "    prediction = np.argmax(model_cnn.predict(x_n))\n",
    "    predictionAsString=cats[prediction-1]\n",
    "    textPrediction = \"We predict:{}\\nActual answer is:{}\".format(predictionAsString,cats[y_n-1])\n",
    "    return textPrediction\n",
    "sampleNum = int(np.random.rand()*x_test.shape[0])\n",
    "print (\"Testing Sample Number \",sampleNum)\n",
    "x_n=x_test[sampleNum]\n",
    "y_n=y_test[sampleNum]\n",
    "\n",
    "cats =  ['speech','rap','singing','failure']\n",
    "print(predict(x_n,y_n,cats))\n",
    "\n",
    " "
   ]
  },
  {
   "cell_type": "code",
   "execution_count": null,
   "id": "a9b48bcf",
   "metadata": {},
   "outputs": [],
   "source": []
  },
  {
   "cell_type": "code",
   "execution_count": null,
   "id": "961c56e7",
   "metadata": {},
   "outputs": [],
   "source": []
  },
  {
   "cell_type": "code",
   "execution_count": null,
   "id": "ece205a2",
   "metadata": {},
   "outputs": [],
   "source": []
  },
  {
   "cell_type": "code",
   "execution_count": null,
   "id": "b370db67",
   "metadata": {},
   "outputs": [],
   "source": []
  },
  {
   "cell_type": "code",
   "execution_count": null,
   "id": "4bd766e7",
   "metadata": {},
   "outputs": [],
   "source": []
  }
 ],
 "metadata": {
  "kernelspec": {
   "display_name": "Python 3",
   "language": "python",
   "name": "python3"
  },
  "language_info": {
   "codemirror_mode": {
    "name": "ipython",
    "version": 3
   },
   "file_extension": ".py",
   "mimetype": "text/x-python",
   "name": "python",
   "nbconvert_exporter": "python",
   "pygments_lexer": "ipython3",
   "version": "3.9.5"
  }
 },
 "nbformat": 4,
 "nbformat_minor": 5
}
