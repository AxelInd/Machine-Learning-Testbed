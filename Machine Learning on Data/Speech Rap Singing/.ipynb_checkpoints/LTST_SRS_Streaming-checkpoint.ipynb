{
 "cells": [
  {
   "cell_type": "markdown",
   "id": "f88414c5",
   "metadata": {},
   "source": [
    "<h1> Speech Rap Signing Classification - LSTM</h1>\n",
    "\n",
    "Source: https://www.youtube.com/watch?v=4nXI0h2sq2I&list=PL-wATfeyAMNrtbkCNsLcpoAyBBRJZVlnf&index=19\n",
    "\n",
    "Data source: see my SRS_classifier.ipynb notebook"
   ]
  },
  {
   "cell_type": "code",
   "execution_count": 1,
   "id": "3579f25b",
   "metadata": {},
   "outputs": [],
   "source": [
    "import numpy as np\n",
    "import json"
   ]
  },
  {
   "cell_type": "code",
   "execution_count": null,
   "id": "8c80400d",
   "metadata": {},
   "outputs": [],
   "source": []
  },
  {
   "cell_type": "code",
   "execution_count": null,
   "id": "4d865513",
   "metadata": {},
   "outputs": [],
   "source": []
  },
  {
   "cell_type": "markdown",
   "id": "fcab4b4b",
   "metadata": {},
   "source": [
    "<h2>Data Preperation</h2>\n",
    "\n",
    "We use the same MFCC data drawn at 16000 samples per second as we generated for the multi-layer perceptron approach used previously (see SRS_classifier.ipynb).\n",
    "\n",
    "Data structure:\n",
    "\n",
    "$x.\\texttt{shape}=(\\text{num samples},\\text{num time intervals}, \\text{num MFCC variables})$\n",
    "\n",
    "$x_i.\\texttt{shape} = (\\text{num time intervals}, \\text{num mfcc variables}))$\n",
    "\n",
    "\n",
    "$y.\\texttt{shape}=(\\text{num labels})$\n",
    "\n",
    "$y_i=\\text{label}$\n",
    "\n",
    "where $\\text{label} \\in \\{1,2,3\\}$"
   ]
  },
  {
   "cell_type": "code",
   "execution_count": 2,
   "id": "59b40098",
   "metadata": {},
   "outputs": [],
   "source": [
    "#load data from the file\n",
    "#split data into training and test\n",
    "\"\"\"\n",
    "load data from a json file with objects \"mfcc\" and \"labels\"\n",
    "@param dataset_path: path to the json file\n",
    "@return np array of mfcc data, np array of target values\n",
    "\"\"\"\n",
    "def load_data(dataset_path):\n",
    "    with open(dataset_path, \"r\") as fp:\n",
    "        data = json.load(fp)\n",
    "        inputs=np.array(data[\"mfcc\"])\n",
    "        targets=np.array(data[\"labels\"])\n",
    "        return inputs,targets\n"
   ]
  },
  {
   "cell_type": "markdown",
   "id": "ac237e91",
   "metadata": {},
   "source": [
    "<h3>Load the data</h3>\n",
    "Load the data from the jason file and verify that the inputs are of the expected type, and the sample size is as expected, in this case: 480 samples of each label.\n"
   ]
  },
  {
   "cell_type": "code",
   "execution_count": 3,
   "id": "0f6013dd",
   "metadata": {},
   "outputs": [
    {
     "name": "stdout",
     "output_type": "stream",
     "text": [
      "input shape (1440, 94, 13)\n",
      "Frequency of unique values of the targets:\n",
      "[[  0   1   2]\n",
      " [480 480 480]]\n"
     ]
    }
   ],
   "source": [
    "x,y = load_data(\"data.json\")\n",
    "print (\"input shape\", x.shape)\n",
    "\n",
    "unique_elements, counts_elements = np.unique(y, return_counts=True)\n",
    "print(\"Frequency of unique values of the targets:\")\n",
    "print(np.asarray((unique_elements, counts_elements)))"
   ]
  },
  {
   "cell_type": "code",
   "execution_count": 4,
   "id": "f14c8a75",
   "metadata": {},
   "outputs": [],
   "source": [
    "from sklearn.model_selection import train_test_split\n",
    "x_train, x_test, y_train, y_test = train_test_split(x, y, test_size=0.1)\n",
    "x_train, x_validation, y_train, y_validation = train_test_split(x_train, y_train, test_size=0.1)"
   ]
  },
  {
   "cell_type": "code",
   "execution_count": 5,
   "id": "3a05e098",
   "metadata": {},
   "outputs": [
    {
     "data": {
      "text/plain": [
       "(1166, 94, 13)"
      ]
     },
     "execution_count": 5,
     "metadata": {},
     "output_type": "execute_result"
    }
   ],
   "source": [
    "x_train.shape"
   ]
  },
  {
   "cell_type": "code",
   "execution_count": 6,
   "id": "4d1f7ddf",
   "metadata": {},
   "outputs": [],
   "source": [
    "import tensorflow.keras as keras\n",
    "import tensorflow as tf\n",
    "\n",
    "\"\"\"\n",
    "Creates a model of three pooled convolutional layers, followed by a single fully connected layer and an output layer.\n",
    "@param input_shape: the structure of SINGLE value x_i (omits the first dimension of x which is the total number of samples.)\n",
    "@return uncompiled keras model of the CNN.\n",
    "\"\"\"\n",
    "def build_model(input_shape,dropoutRate=0):\n",
    "    model=keras.Sequential()\n",
    "    \n",
    "    #LSTM Layer 1\n",
    "    #return_sequences = True: sequence to sequence layer, otherwise sequence to vector\n",
    "    model.add(keras.layers.LSTM(units=64,activation='tanh',input_shape=input_shape,return_sequences=True))\n",
    "    #LSTM Layer 2\n",
    "    model.add(keras.layers.LSTM(units=64,activation='tanh',input_shape=input_shape,return_sequences=False))\n",
    "    \n",
    "    #pipe output into a dense layer. No need to flatten because sequence to vector\n",
    "    model.add(keras.layers.Dense(units=64,activation='relu'))\n",
    "    model.add(keras.layers.Dropout(dropoutRate))\n",
    "    \n",
    "    #output layer\n",
    "    #a fully connected layer for classification\n",
    "    NUMBEROFPOSSIBLEOUTPUTS=3\n",
    "    model.add(keras.layers.Dense(NUMBEROFPOSSIBLEOUTPUTS,activation='softmax'))\n",
    "    return model"
   ]
  },
  {
   "cell_type": "code",
   "execution_count": 7,
   "id": "7e1778f2",
   "metadata": {},
   "outputs": [],
   "source": [
    "#each sample has the shape (num samples,intervals,variables,channels=1)\n",
    "input_shape=(x_train.shape[1], x_train.shape[2])\n",
    "model = build_model(input_shape,dropoutRate=0.4)\n",
    "\n",
    "#model.summary()"
   ]
  },
  {
   "cell_type": "code",
   "execution_count": 8,
   "id": "462cc157",
   "metadata": {},
   "outputs": [],
   "source": [
    "#Adam is a very very effecting sgd variant for deep learning\n",
    "optimizer = keras.optimizers.Adam(learning_rate=0.0001)\n",
    "#put all the components together\n",
    "model.compile(optimizer=optimizer,\n",
    "              loss=\"sparse_categorical_crossentropy\", \n",
    "              metrics=[\"accuracy\"]\n",
    "              )"
   ]
  },
  {
   "cell_type": "code",
   "execution_count": 9,
   "id": "eac9e943",
   "metadata": {},
   "outputs": [
    {
     "name": "stdout",
     "output_type": "stream",
     "text": [
      "Epoch 1/50\n",
      "37/37 [==============================] - 2s 43ms/step - loss: 1.0785 - accuracy: 0.4057 - val_loss: 0.9942 - val_accuracy: 0.5462\n",
      "Epoch 2/50\n",
      "37/37 [==============================] - 1s 26ms/step - loss: 0.9821 - accuracy: 0.5489 - val_loss: 0.8823 - val_accuracy: 0.7154\n",
      "Epoch 3/50\n",
      "37/37 [==============================] - 1s 26ms/step - loss: 0.8802 - accuracy: 0.6509 - val_loss: 0.7449 - val_accuracy: 0.7462\n",
      "Epoch 4/50\n",
      "37/37 [==============================] - 1s 26ms/step - loss: 0.7592 - accuracy: 0.6973 - val_loss: 0.6239 - val_accuracy: 0.7692\n",
      "Epoch 5/50\n",
      "37/37 [==============================] - 1s 26ms/step - loss: 0.7002 - accuracy: 0.7273 - val_loss: 0.5730 - val_accuracy: 0.7846\n",
      "Epoch 6/50\n",
      "37/37 [==============================] - 1s 27ms/step - loss: 0.6288 - accuracy: 0.7616 - val_loss: 0.5034 - val_accuracy: 0.8231\n",
      "Epoch 7/50\n",
      "37/37 [==============================] - 1s 26ms/step - loss: 0.5469 - accuracy: 0.8045 - val_loss: 0.4624 - val_accuracy: 0.8385\n",
      "Epoch 8/50\n",
      "37/37 [==============================] - 1s 26ms/step - loss: 0.4977 - accuracy: 0.8293 - val_loss: 0.4207 - val_accuracy: 0.8462\n",
      "Epoch 9/50\n",
      "37/37 [==============================] - 1s 26ms/step - loss: 0.4374 - accuracy: 0.8568 - val_loss: 0.4068 - val_accuracy: 0.8538\n",
      "Epoch 10/50\n",
      "37/37 [==============================] - 1s 26ms/step - loss: 0.3865 - accuracy: 0.8688 - val_loss: 0.3754 - val_accuracy: 0.8538\n",
      "Epoch 11/50\n",
      "37/37 [==============================] - 1s 26ms/step - loss: 0.3442 - accuracy: 0.9014 - val_loss: 0.3498 - val_accuracy: 0.8692\n",
      "Epoch 12/50\n",
      "37/37 [==============================] - 1s 26ms/step - loss: 0.3195 - accuracy: 0.9048 - val_loss: 0.3426 - val_accuracy: 0.8615\n",
      "Epoch 13/50\n",
      "37/37 [==============================] - 1s 26ms/step - loss: 0.2936 - accuracy: 0.9108 - val_loss: 0.3188 - val_accuracy: 0.8846\n",
      "Epoch 14/50\n",
      "37/37 [==============================] - 1s 26ms/step - loss: 0.2800 - accuracy: 0.9142 - val_loss: 0.2955 - val_accuracy: 0.8846\n",
      "Epoch 15/50\n",
      "37/37 [==============================] - 1s 26ms/step - loss: 0.2643 - accuracy: 0.9245 - val_loss: 0.2826 - val_accuracy: 0.8846\n",
      "Epoch 16/50\n",
      "37/37 [==============================] - 1s 26ms/step - loss: 0.2589 - accuracy: 0.9228 - val_loss: 0.2941 - val_accuracy: 0.9000\n",
      "Epoch 17/50\n",
      "37/37 [==============================] - 1s 26ms/step - loss: 0.2484 - accuracy: 0.9202 - val_loss: 0.2961 - val_accuracy: 0.8846\n",
      "Epoch 18/50\n",
      "37/37 [==============================] - 1s 26ms/step - loss: 0.2548 - accuracy: 0.9288 - val_loss: 0.3733 - val_accuracy: 0.8462\n",
      "Epoch 19/50\n",
      "37/37 [==============================] - 1s 26ms/step - loss: 0.2708 - accuracy: 0.9134 - val_loss: 0.3068 - val_accuracy: 0.8769\n",
      "Epoch 20/50\n",
      "37/37 [==============================] - 1s 26ms/step - loss: 0.2256 - accuracy: 0.9297 - val_loss: 0.2699 - val_accuracy: 0.8769\n",
      "Epoch 21/50\n",
      "37/37 [==============================] - 1s 26ms/step - loss: 0.2158 - accuracy: 0.9331 - val_loss: 0.2639 - val_accuracy: 0.8846\n",
      "Epoch 22/50\n",
      "37/37 [==============================] - 1s 27ms/step - loss: 0.1905 - accuracy: 0.9417 - val_loss: 0.2480 - val_accuracy: 0.8923\n",
      "Epoch 23/50\n",
      "37/37 [==============================] - 1s 26ms/step - loss: 0.1807 - accuracy: 0.9477 - val_loss: 0.2664 - val_accuracy: 0.8846\n",
      "Epoch 24/50\n",
      "37/37 [==============================] - 1s 26ms/step - loss: 0.1793 - accuracy: 0.9477 - val_loss: 0.2659 - val_accuracy: 0.9000\n",
      "Epoch 25/50\n",
      "37/37 [==============================] - 1s 26ms/step - loss: 0.1750 - accuracy: 0.9520 - val_loss: 0.2403 - val_accuracy: 0.9000\n",
      "Epoch 26/50\n",
      "37/37 [==============================] - 1s 26ms/step - loss: 0.1652 - accuracy: 0.9588 - val_loss: 0.2801 - val_accuracy: 0.9231\n",
      "Epoch 27/50\n",
      "37/37 [==============================] - 1s 27ms/step - loss: 0.1593 - accuracy: 0.9580 - val_loss: 0.2574 - val_accuracy: 0.9154\n",
      "Epoch 28/50\n",
      "37/37 [==============================] - 1s 26ms/step - loss: 0.1481 - accuracy: 0.9597 - val_loss: 0.2154 - val_accuracy: 0.9231\n",
      "Epoch 29/50\n",
      "37/37 [==============================] - 1s 26ms/step - loss: 0.1443 - accuracy: 0.9571 - val_loss: 0.2136 - val_accuracy: 0.9154\n",
      "Epoch 30/50\n",
      "37/37 [==============================] - 1s 26ms/step - loss: 0.1391 - accuracy: 0.9605 - val_loss: 0.1979 - val_accuracy: 0.9308\n",
      "Epoch 31/50\n",
      "37/37 [==============================] - 1s 26ms/step - loss: 0.1280 - accuracy: 0.9605 - val_loss: 0.2291 - val_accuracy: 0.9154\n",
      "Epoch 32/50\n",
      "37/37 [==============================] - 1s 26ms/step - loss: 0.1477 - accuracy: 0.9571 - val_loss: 0.2476 - val_accuracy: 0.9154\n",
      "Epoch 33/50\n",
      "37/37 [==============================] - 1s 26ms/step - loss: 0.1536 - accuracy: 0.9503 - val_loss: 0.2230 - val_accuracy: 0.9231\n",
      "Epoch 34/50\n",
      "37/37 [==============================] - 1s 26ms/step - loss: 0.1335 - accuracy: 0.9623 - val_loss: 0.2205 - val_accuracy: 0.9154\n",
      "Epoch 35/50\n",
      "37/37 [==============================] - 1s 26ms/step - loss: 0.1223 - accuracy: 0.9623 - val_loss: 0.2139 - val_accuracy: 0.9308\n",
      "Epoch 36/50\n",
      "37/37 [==============================] - 1s 26ms/step - loss: 0.1137 - accuracy: 0.9666 - val_loss: 0.1851 - val_accuracy: 0.9308\n",
      "Epoch 37/50\n",
      "37/37 [==============================] - 1s 26ms/step - loss: 0.1149 - accuracy: 0.9631 - val_loss: 0.2687 - val_accuracy: 0.9077\n",
      "Epoch 38/50\n",
      "37/37 [==============================] - 1s 27ms/step - loss: 0.1258 - accuracy: 0.9614 - val_loss: 0.2137 - val_accuracy: 0.9231\n",
      "Epoch 39/50\n",
      "37/37 [==============================] - 1s 27ms/step - loss: 0.1016 - accuracy: 0.9683 - val_loss: 0.2289 - val_accuracy: 0.9308\n",
      "Epoch 40/50\n",
      "37/37 [==============================] - 1s 26ms/step - loss: 0.1107 - accuracy: 0.9640 - val_loss: 0.1831 - val_accuracy: 0.9308\n",
      "Epoch 41/50\n",
      "37/37 [==============================] - 1s 26ms/step - loss: 0.0964 - accuracy: 0.9640 - val_loss: 0.1803 - val_accuracy: 0.9385\n",
      "Epoch 42/50\n",
      "37/37 [==============================] - 1s 26ms/step - loss: 0.1045 - accuracy: 0.9666 - val_loss: 0.3042 - val_accuracy: 0.8923\n",
      "Epoch 43/50\n",
      "37/37 [==============================] - 1s 26ms/step - loss: 0.0953 - accuracy: 0.9674 - val_loss: 0.1816 - val_accuracy: 0.9385\n",
      "Epoch 44/50\n",
      "37/37 [==============================] - 1s 26ms/step - loss: 0.0833 - accuracy: 0.9700 - val_loss: 0.1701 - val_accuracy: 0.9385\n",
      "Epoch 45/50\n",
      "37/37 [==============================] - 1s 27ms/step - loss: 0.0813 - accuracy: 0.9786 - val_loss: 0.1591 - val_accuracy: 0.9462\n",
      "Epoch 46/50\n",
      "37/37 [==============================] - 1s 27ms/step - loss: 0.0756 - accuracy: 0.9751 - val_loss: 0.1819 - val_accuracy: 0.9231\n",
      "Epoch 47/50\n",
      "37/37 [==============================] - 1s 27ms/step - loss: 0.0806 - accuracy: 0.9743 - val_loss: 0.1962 - val_accuracy: 0.9154\n",
      "Epoch 48/50\n",
      "37/37 [==============================] - 1s 27ms/step - loss: 0.0760 - accuracy: 0.9803 - val_loss: 0.1704 - val_accuracy: 0.9308\n",
      "Epoch 49/50\n",
      "37/37 [==============================] - 1s 27ms/step - loss: 0.0688 - accuracy: 0.9794 - val_loss: 0.1939 - val_accuracy: 0.9231\n",
      "Epoch 50/50\n",
      "37/37 [==============================] - 1s 26ms/step - loss: 0.0864 - accuracy: 0.9691 - val_loss: 0.1593 - val_accuracy: 0.9385\n"
     ]
    }
   ],
   "source": [
    "#stores the progression of several metrics as the model trains.\n",
    "history = model.fit(x_train,y_train,validation_data=(x_validation,y_validation),epochs=50)"
   ]
  },
  {
   "cell_type": "code",
   "execution_count": 11,
   "id": "ce5525a6",
   "metadata": {},
   "outputs": [],
   "source": [
    "import pyaudio\n",
    "import wave"
   ]
  },
  {
   "cell_type": "code",
   "execution_count": 12,
   "id": "7f8cca5e",
   "metadata": {},
   "outputs": [
    {
     "name": "stdout",
     "output_type": "stream",
     "text": [
      "* recording\n",
      "* done recording\n"
     ]
    }
   ],
   "source": [
    "\n",
    "\n",
    "CHUNK = 512\n",
    "FORMAT = pyaudio.paInt16\n",
    "CHANNELS = 1\n",
    "RATE = 16000\n",
    "RECORD_SECONDS = 3\n",
    "WAVE_OUTPUT_FILENAME = \"output.wav\"\n",
    "\n",
    "p = pyaudio.PyAudio()\n",
    "\n",
    "stream = p.open(format=FORMAT,\n",
    "                channels=CHANNELS,\n",
    "                rate=RATE,\n",
    "                input=True,\n",
    "                frames_per_buffer=CHUNK)\n",
    "\n",
    "print(\"* recording\")\n",
    "\n",
    "frames = []\n",
    "\n",
    "for i in range(0, int(RATE / CHUNK * RECORD_SECONDS)):\n",
    "    data = stream.read(CHUNK)\n",
    "    frames.append(data)\n",
    "    \n",
    "    \n",
    "\n",
    "print(\"* done recording\")\n",
    "\n",
    "stream.stop_stream()\n",
    "stream.close()\n",
    "p.terminate()\n",
    "\n",
    "wf = wave.open(WAVE_OUTPUT_FILENAME, 'wb')\n",
    "wf.setnchannels(CHANNELS)\n",
    "wf.setsampwidth(p.get_sample_size(FORMAT))\n",
    "wf.setframerate(RATE)\n",
    "wf.writeframes(b''.join(frames))\n",
    "wf.close()"
   ]
  },
  {
   "cell_type": "code",
   "execution_count": 13,
   "id": "4b9f5a8e",
   "metadata": {},
   "outputs": [
    {
     "name": "stdout",
     "output_type": "stream",
     "text": [
      "1024\n",
      "93\n"
     ]
    }
   ],
   "source": [
    "print(len(data))\n",
    "print(len(frames))"
   ]
  },
  {
   "cell_type": "code",
   "execution_count": 14,
   "id": "03eae3d5",
   "metadata": {},
   "outputs": [],
   "source": [
    "frame_array=np.array(frames)\n",
    "import librosa\n",
    "signal, sr = librosa.load(\"output.wav\",sr=RATE)\n"
   ]
  },
  {
   "cell_type": "code",
   "execution_count": 15,
   "id": "d19d3661",
   "metadata": {},
   "outputs": [],
   "source": [
    "mfcc_data={'mfcc':[], 'labels':[]}"
   ]
  },
  {
   "cell_type": "code",
   "execution_count": 16,
   "id": "43f59edb",
   "metadata": {},
   "outputs": [],
   "source": [
    "import math\n",
    "\n",
    "n_mfcc=13\n",
    "n_fft=2048\n",
    "hop_length=512\n",
    "\n",
    "mfcc=None\n",
    "samples_per_track=RATE * RECORD_SECONDS\n",
    "num_samples_per_segment=int(samples_per_track)\n",
    "expected_num_mfcc_vectors_per_segment = math.ceil(num_samples_per_segment/ hop_length)\n",
    "\n",
    "#the mfcc for data points between start_sample and finish_sample\n",
    "mfcc = librosa.feature.mfcc(signal,sr=sr,n_fft=n_fft,n_mfcc=n_mfcc, hop_length = hop_length)\n",
    "mfcc=mfcc.T\n",
    "#store mfcc for segement if it has the expected length\n",
    "if len(mfcc)==expected_num_mfcc_vectors_per_segment:\n",
    "    mfcc_data[\"mfcc\"].append(mfcc.tolist())\n",
    "    mfcc_data[\"labels\"].append(\"unknown\")"
   ]
  },
  {
   "cell_type": "code",
   "execution_count": 17,
   "id": "7be20c2c",
   "metadata": {},
   "outputs": [
    {
     "name": "stdout",
     "output_type": "stream",
     "text": [
      "expected_num_mfcc_vectors_per_segment 94\n",
      "\n"
     ]
    }
   ],
   "source": [
    "print(\"expected_num_mfcc_vectors_per_segment\",expected_num_mfcc_vectors_per_segment)\n",
    "print()"
   ]
  },
  {
   "cell_type": "code",
   "execution_count": 18,
   "id": "cccba3c6",
   "metadata": {},
   "outputs": [
    {
     "data": {
      "text/plain": [
       "<matplotlib.colorbar.Colorbar at 0x28682057508>"
      ]
     },
     "execution_count": 18,
     "metadata": {},
     "output_type": "execute_result"
    },
    {
     "data": {
      "image/png": "[encoded data removed]",
      "text/plain": [
       "<Figure size 432x288 with 2 Axes>"
      ]
     },
     "metadata": {
      "needs_background": "light"
     },
     "output_type": "display_data"
    }
   ],
   "source": [
    "import librosa\n",
    "import matplotlib.pyplot as plt\n",
    "import numpy as np\n",
    "import librosa.display\n",
    "\n",
    "librosa.display.specshow(mfcc, sr=sr, hop_length = hop_length)\n",
    "plt.xlabel(\"Time\")\n",
    "plt.ylabel(\"Frequency\")\n",
    "plt.colorbar()"
   ]
  },
  {
   "cell_type": "code",
   "execution_count": 19,
   "id": "7eae7122",
   "metadata": {},
   "outputs": [
    {
     "data": {
      "text/plain": [
       "<matplotlib.colorbar.Colorbar at 0x28682167608>"
      ]
     },
     "execution_count": 19,
     "metadata": {},
     "output_type": "execute_result"
    },
    {
     "data": {
      "image/png": "[encoded data removed]",
      "text/plain": [
       "<Figure size 432x288 with 2 Axes>"
      ]
     },
     "metadata": {
      "needs_background": "light"
     },
     "output_type": "display_data"
    }
   ],
   "source": [
    "np_mfccData = np.array(mfcc_data['mfcc'])\n",
    "librosa.display.specshow(np_mfccData[0], sr=sr, hop_length = hop_length)\n",
    "plt.xlabel(\"Time\")\n",
    "plt.ylabel(\"Frequency\")\n",
    "plt.colorbar()"
   ]
  },
  {
   "cell_type": "code",
   "execution_count": 20,
   "id": "e533469c",
   "metadata": {},
   "outputs": [
    {
     "data": {
      "text/plain": [
       "(1, 94, 13)"
      ]
     },
     "execution_count": 20,
     "metadata": {},
     "output_type": "execute_result"
    }
   ],
   "source": [
    "#model expects [n,94,13]\n",
    "np_mfccData.shape"
   ]
  },
  {
   "cell_type": "code",
   "execution_count": 21,
   "id": "ee8c031b",
   "metadata": {},
   "outputs": [
    {
     "data": {
      "text/plain": [
       "(1, 94, 13)"
      ]
     },
     "execution_count": 21,
     "metadata": {},
     "output_type": "execute_result"
    }
   ],
   "source": []
  },
  {
   "cell_type": "code",
   "execution_count": 22,
   "id": "f6ea7d7f",
   "metadata": {},
   "outputs": [
    {
     "name": "stdout",
     "output_type": "stream",
     "text": [
      "prediction  [[8.125696e-04 9.914392e-01 7.748223e-03]]\n",
      "maxArg 1\n",
      "singing\n"
     ]
    }
   ],
   "source": [
    "prediction=model.predict(np_mfccData)\n",
    "print (\"prediction \",prediction)\n",
    "maxArg=np.argmax(prediction)\n",
    "print(\"maxArg\",maxArg)\n",
    "possible=[\"rap\",\"singing\",\"speech\"]\n",
    "print (possible[maxArg])"
   ]
  },
  {
   "cell_type": "code",
   "execution_count": null,
   "id": "02571c60",
   "metadata": {},
   "outputs": [],
   "source": []
  },
  {
   "cell_type": "code",
   "execution_count": null,
   "id": "12ec7586",
   "metadata": {},
   "outputs": [],
   "source": []
  },
  {
   "cell_type": "code",
   "execution_count": null,
   "id": "c373849e",
   "metadata": {},
   "outputs": [],
   "source": []
  }
 ],
 "metadata": {
  "kernelspec": {
   "display_name": "Python 3",
   "language": "python",
   "name": "python3"
  },
  "language_info": {
   "codemirror_mode": {
    "name": "ipython",
    "version": 3
   },
   "file_extension": ".py",
   "mimetype": "text/x-python",
   "name": "python",
   "nbconvert_exporter": "python",
   "pygments_lexer": "ipython3",
   "version": "3.7.10"
  }
 },
 "nbformat": 4,
 "nbformat_minor": 5
}
