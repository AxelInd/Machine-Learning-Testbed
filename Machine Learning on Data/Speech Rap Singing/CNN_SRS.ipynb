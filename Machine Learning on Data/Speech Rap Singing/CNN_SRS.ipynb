{
 "cells": [
  {
   "cell_type": "markdown",
   "id": "ba1813ff",
   "metadata": {},
   "source": [
    "<h1> Speech Rap Signing Classification</h1>\n",
    "\n",
    "Source: https://www.youtube.com/watch?v=dOG-HxpbMSw&list=PL-wATfeyAMNrtbkCNsLcpoAyBBRJZVlnf&index=16\n",
    "\n",
    "Data source: see my SRS_classifier.ipynb notebook"
   ]
  },
  {
   "cell_type": "code",
   "execution_count": 1,
   "id": "c5d50b3d",
   "metadata": {},
   "outputs": [],
   "source": [
    "import numpy as np\n",
    "import json"
   ]
  },
  {
   "cell_type": "markdown",
   "id": "da08bbf7",
   "metadata": {},
   "source": [
    "<h2>Data Preperation</h2>\n",
    "\n",
    "We use the same MFCC data drawn at 16000 samples per second as we generated for the multi-layer perceptron approach used previously (see SRS_classifier.ipynb).\n",
    "\n",
    "Data structure:\n",
    "\n",
    "$x.\\texttt{shape}=(\\text{num samples},\\text{num time intervals}, \\text{num MFCC variables})$\n",
    "\n",
    "$x_i.\\texttt{shape} = (\\text{num time intervals}, \\text{num mfcc variables}))$\n",
    "\n",
    "\n",
    "$y.\\texttt{shape}=(\\text{num labels})$\n",
    "\n",
    "$y_i=\\text{label}$\n",
    "\n",
    "where $\\text{label} \\in \\{1,2,3\\}$"
   ]
  },
  {
   "cell_type": "code",
   "execution_count": 2,
   "id": "6b608c8a",
   "metadata": {},
   "outputs": [],
   "source": [
    "#load data from the file\n",
    "#split data into training and test\n",
    "\"\"\"\n",
    "load data from a json file with objects \"mfcc\" and \"labels\"\n",
    "@param dataset_path: path to the json file\n",
    "@return np array of mfcc data, np array of target values\n",
    "\"\"\"\n",
    "def load_data(dataset_path):\n",
    "    with open(dataset_path, \"r\") as fp:\n",
    "        data = json.load(fp)\n",
    "        inputs=np.array(data[\"mfcc\"])\n",
    "        targets=np.array(data[\"labels\"])\n",
    "        return inputs,targets\n"
   ]
  },
  {
   "cell_type": "markdown",
   "id": "52cb1594",
   "metadata": {},
   "source": [
    "<h3>Load the data</h3>\n",
    "Load the data from the jason file and verify that the inputs are of the expected type, and the sample size is as expected, in this case: 480 samples of each label.\n"
   ]
  },
  {
   "cell_type": "code",
   "execution_count": 3,
   "id": "232f9eef",
   "metadata": {},
   "outputs": [
    {
     "name": "stdout",
     "output_type": "stream",
     "text": [
      "input shape (1440, 94, 13)\n",
      "Frequency of unique values of the targets:\n",
      "[[  1   2   3]\n",
      " [480 480 480]]\n"
     ]
    }
   ],
   "source": [
    "x,y = load_data(\"data.json\")\n",
    "print (\"input shape\", x.shape)\n",
    "\n",
    "unique_elements, counts_elements = np.unique(y, return_counts=True)\n",
    "print(\"Frequency of unique values of the targets:\")\n",
    "print(np.asarray((unique_elements, counts_elements)))"
   ]
  },
  {
   "cell_type": "markdown",
   "id": "f5765372",
   "metadata": {},
   "source": [
    "<h3>Create training, validation and test datasets</h3>\n",
    "<ul>\n",
    "    <li><b>training</b>: used to train the model.</li>\n",
    "    <li><b>validation</b>: used to evaluate the model after training.</li>\n",
    "    <li><b>test</b>: used to evaluate a model that does well on validation. Ensures that the ML engineer has not been inadvertantly tweaking his model to work on the validation set alone, rather than generalising.</li>\n",
    "    </ul>\n",
    "    \n",
    "Here we also add another axis/dimension to our input, giving each training sample a channel depth of 1. (Our CNN will require 3D samples as input). Our labels do not change."
   ]
  },
  {
   "cell_type": "code",
   "execution_count": 4,
   "id": "fac8ddc6",
   "metadata": {},
   "outputs": [],
   "source": [
    "from sklearn.model_selection import train_test_split\n",
    "def prepare_datasets(x,y,test_size,validation_size,dataset_path):\n",
    "    #test set: test on the fully trained model\n",
    "    x_train,x_test,y_train,y_test=train_test_split(x,y,test_size=test_size)\n",
    "    #validation: test on unseen data, but model may end up learning it as we tweak to maximise validation accuracy\n",
    "    x_train,x_validation,y_train,y_validation=train_test_split(x_train,y_train,test_size=validation_size)\n",
    "    x_train=x_train[...,np.newaxis]\n",
    "    x_validation=x_validation[...,np.newaxis]\n",
    "    x_test=x_test[...,np.newaxis]\n",
    "    return x_train,x_test,y_train,y_test, x_validation, y_validation  "
   ]
  },
  {
   "cell_type": "markdown",
   "id": "b442ec35",
   "metadata": {},
   "source": [
    "Data structure:\n",
    "\n",
    "$x_{train}.\\texttt{shape}=(\\text{num samples},\\text{num time intervals}, \\text{num MFCC variables},\\text{depth})$\n",
    "\n",
    "$x_{validate}.\\texttt{shape}=(\\text{num samples},\\text{num time intervals}, \\text{num MFCC variables},\\text{depth})$\n",
    "\n",
    "$x_{test}.\\texttt{shape}=(\\text{num samples},\\text{num time intervals}, \\text{num MFCC variables},\\text{depth})$\n",
    "\n",
    "\n",
    "\n",
    "Where $\\text{depth}=1$"
   ]
  },
  {
   "cell_type": "code",
   "execution_count": 5,
   "id": "0b6343c3",
   "metadata": {},
   "outputs": [],
   "source": [
    "x_train,x_test,y_train,y_test, x_validation, y_validation = prepare_datasets(x,y,0.25,0.2, \"data.json\")"
   ]
  },
  {
   "cell_type": "code",
   "execution_count": 6,
   "id": "1be15f70",
   "metadata": {},
   "outputs": [
    {
     "data": {
      "text/plain": [
       "(864, 94, 13, 1)"
      ]
     },
     "execution_count": 6,
     "metadata": {},
     "output_type": "execute_result"
    }
   ],
   "source": [
    "#(num samples, num intervals, num variables, num channels)\n",
    "x_train.shape"
   ]
  },
  {
   "cell_type": "markdown",
   "id": "3f3cb0ea",
   "metadata": {},
   "source": [
    "<h2>Model Design</h2>\n",
    "For this model, I opt for a traditional CNN design: three pooled convolutional layers, followed by a single fully connected layer and an output layer, implemented in Tensorflow's Keras environment."
   ]
  },
  {
   "cell_type": "code",
   "execution_count": 9,
   "id": "943d6c63",
   "metadata": {},
   "outputs": [],
   "source": [
    "import tensorflow.keras as keras\n",
    "\"\"\"\n",
    "Creates a model of three pooled convolutional layers, followed by a single fully connected layer and an output layer.\n",
    "@param input_shape: the structure of SINGLE value x_i (omits the first dimension of x which is the total number of samples.)\n",
    "@return uncompiled keras model of the CNN.\n",
    "\"\"\"\n",
    "def build_model(input_shape,dropoutRate=0):\n",
    "    model=keras.Sequential()\n",
    "    #CONV LAYER 1\n",
    "    model.add(keras.layers.Conv2D(filters=32,kernel_size=(3,3),activation=\"relu\", input_shape=input_shape))\n",
    "    model.add(keras.layers.MaxPool2D(pool_size=(3,3),strides=(2,2), padding='same'))\n",
    "    #Batch normalisation: process that normalises the activations in the current layer for output to the next layer.\n",
    "    #Speeds up training (faster convergence) and reliability.\n",
    "    model.add(keras.layers.BatchNormalization())\n",
    "\n",
    "    #CONV LAYER 2\n",
    "    model.add(keras.layers.Conv2D(filters=32,kernel_size=(3,3),activation=\"relu\", input_shape=input_shape))\n",
    "    model.add(keras.layers.MaxPool2D(pool_size=(3,3),strides=(2,2), padding='same'))\n",
    "    model.add(keras.layers.BatchNormalization())   \n",
    "\n",
    "    #CONV LAYER 3\n",
    "    # we shrink the kernal size\n",
    "    model.add(keras.layers.Conv2D(filters=32,kernel_size=(2,2),activation=\"relu\", input_shape=input_shape))\n",
    "    model.add(keras.layers.MaxPool2D(pool_size=(2,2),strides=(2,2), padding='same'))\n",
    "    model.add(keras.layers.BatchNormalization()) \n",
    "\n",
    "    #flatten into dense layer\n",
    "    model.add(keras.layers.Flatten())\n",
    "    model.add(keras.layers.Dense(64,activation=\"relu\"))\n",
    "    model.add(keras.layers.Dropout(dropoutRate))  \n",
    "    \n",
    "    #output layer\n",
    "    #a fully connected layer for classification\n",
    "    NUMBEROFPOSSIBLEOUTPUTS=4\n",
    "    model.add(keras.layers.Dense(NUMBEROFPOSSIBLEOUTPUTS,activation='softmax'))\n",
    "    \n",
    "    return model"
   ]
  },
  {
   "cell_type": "code",
   "execution_count": 10,
   "id": "a83ef1ea",
   "metadata": {},
   "outputs": [
    {
     "name": "stdout",
     "output_type": "stream",
     "text": [
      "Model: \"sequential\"\n",
      "_________________________________________________________________\n",
      "Layer (type)                 Output Shape              Param #   \n",
      "=================================================================\n",
      "conv2d (Conv2D)              (None, 92, 11, 32)        320       \n",
      "_________________________________________________________________\n",
      "max_pooling2d (MaxPooling2D) (None, 46, 6, 32)         0         \n",
      "_________________________________________________________________\n",
      "batch_normalization (BatchNo (None, 46, 6, 32)         128       \n",
      "_________________________________________________________________\n",
      "conv2d_1 (Conv2D)            (None, 44, 4, 32)         9248      \n",
      "_________________________________________________________________\n",
      "max_pooling2d_1 (MaxPooling2 (None, 22, 2, 32)         0         \n",
      "_________________________________________________________________\n",
      "batch_normalization_1 (Batch (None, 22, 2, 32)         128       \n",
      "_________________________________________________________________\n",
      "conv2d_2 (Conv2D)            (None, 21, 1, 32)         4128      \n",
      "_________________________________________________________________\n",
      "max_pooling2d_2 (MaxPooling2 (None, 11, 1, 32)         0         \n",
      "_________________________________________________________________\n",
      "batch_normalization_2 (Batch (None, 11, 1, 32)         128       \n",
      "_________________________________________________________________\n",
      "flatten (Flatten)            (None, 352)               0         \n",
      "_________________________________________________________________\n",
      "dense (Dense)                (None, 64)                22592     \n",
      "_________________________________________________________________\n",
      "dropout (Dropout)            (None, 64)                0         \n",
      "_________________________________________________________________\n",
      "dense_1 (Dense)              (None, 4)                 260       \n",
      "=================================================================\n",
      "Total params: 36,932\n",
      "Trainable params: 36,740\n",
      "Non-trainable params: 192\n",
      "_________________________________________________________________\n"
     ]
    }
   ],
   "source": [
    "#each sample has the shape (n,130,13,1) <- (num samples,intervals,variables,channels)\n",
    "input_shape=(x_train.shape[1], x_train.shape[2], x_train.shape[3])\n",
    "model = build_model(input_shape,dropoutRate=0.4)\n",
    "\n",
    "model.summary()"
   ]
  },
  {
   "cell_type": "markdown",
   "id": "51f8e779",
   "metadata": {},
   "source": [
    "<h3>Compiling the model</h3>\n",
    "<ul><b>Optimizer</b>: Adam</ul>\n",
    "<ul><b>Loss Function</b>: sparse_categorical_crossentropy - a powerful tool for categorization tasks.</ul>\n",
    "<ul><b>Metrics</b>: accuracy</ul>"
   ]
  },
  {
   "cell_type": "code",
   "execution_count": 11,
   "id": "8fdf69a5",
   "metadata": {},
   "outputs": [],
   "source": [
    "#Adam is a very very effecting sgd variant for deep learning\n",
    "optimizer = keras.optimizers.Adam(learning_rate=0.0001)\n",
    "#put all the components together\n",
    "model.compile(optimizer=optimizer,\n",
    "              loss=\"sparse_categorical_crossentropy\", \n",
    "              metrics=[\"accuracy\"]\n",
    "              )"
   ]
  },
  {
   "cell_type": "markdown",
   "id": "eaefd903",
   "metadata": {},
   "source": [
    "<h2>Training the Model</h2>\n",
    "We fit the model to our training data and validate it against our validation data."
   ]
  },
  {
   "cell_type": "code",
   "execution_count": 12,
   "id": "70bc2eea",
   "metadata": {},
   "outputs": [
    {
     "name": "stdout",
     "output_type": "stream",
     "text": [
      "Epoch 1/50\n",
      "27/27 [==============================] - 0s 13ms/step - loss: 1.6341 - accuracy: 0.3889 - val_loss: 1.4392 - val_accuracy: 0.3102\n",
      "Epoch 2/50\n",
      "27/27 [==============================] - 0s 10ms/step - loss: 1.2850 - accuracy: 0.4780 - val_loss: 1.3768 - val_accuracy: 0.3148\n",
      "Epoch 3/50\n",
      "27/27 [==============================] - 0s 9ms/step - loss: 1.0031 - accuracy: 0.5868 - val_loss: 1.3127 - val_accuracy: 0.3380\n",
      "Epoch 4/50\n",
      "27/27 [==============================] - 0s 10ms/step - loss: 0.8118 - accuracy: 0.6725 - val_loss: 1.2061 - val_accuracy: 0.3935\n",
      "Epoch 5/50\n",
      "27/27 [==============================] - 0s 9ms/step - loss: 0.6880 - accuracy: 0.7465 - val_loss: 1.0781 - val_accuracy: 0.4537\n",
      "Epoch 6/50\n",
      "27/27 [==============================] - 0s 10ms/step - loss: 0.5973 - accuracy: 0.7604 - val_loss: 0.9078 - val_accuracy: 0.5880\n",
      "Epoch 7/50\n",
      "27/27 [==============================] - 0s 10ms/step - loss: 0.5373 - accuracy: 0.7975 - val_loss: 0.7434 - val_accuracy: 0.7130\n",
      "Epoch 8/50\n",
      "27/27 [==============================] - 0s 10ms/step - loss: 0.4681 - accuracy: 0.8241 - val_loss: 0.6409 - val_accuracy: 0.7407\n",
      "Epoch 9/50\n",
      "27/27 [==============================] - 0s 10ms/step - loss: 0.4260 - accuracy: 0.8449 - val_loss: 0.5205 - val_accuracy: 0.7824\n",
      "Epoch 10/50\n",
      "27/27 [==============================] - 0s 10ms/step - loss: 0.3247 - accuracy: 0.8854 - val_loss: 0.4263 - val_accuracy: 0.8380\n",
      "Epoch 11/50\n",
      "27/27 [==============================] - 0s 9ms/step - loss: 0.3051 - accuracy: 0.9074 - val_loss: 0.3529 - val_accuracy: 0.8750\n",
      "Epoch 12/50\n",
      "27/27 [==============================] - 0s 9ms/step - loss: 0.2867 - accuracy: 0.9201 - val_loss: 0.3271 - val_accuracy: 0.8750\n",
      "Epoch 13/50\n",
      "27/27 [==============================] - 0s 9ms/step - loss: 0.2670 - accuracy: 0.9016 - val_loss: 0.3053 - val_accuracy: 0.8843\n",
      "Epoch 14/50\n",
      "27/27 [==============================] - 0s 9ms/step - loss: 0.2315 - accuracy: 0.9236 - val_loss: 0.2677 - val_accuracy: 0.9028\n",
      "Epoch 15/50\n",
      "27/27 [==============================] - 0s 9ms/step - loss: 0.1958 - accuracy: 0.9410 - val_loss: 0.2521 - val_accuracy: 0.9028\n",
      "Epoch 16/50\n",
      "27/27 [==============================] - 0s 9ms/step - loss: 0.1917 - accuracy: 0.9410 - val_loss: 0.2466 - val_accuracy: 0.8981\n",
      "Epoch 17/50\n",
      "27/27 [==============================] - 0s 10ms/step - loss: 0.1749 - accuracy: 0.9444 - val_loss: 0.2280 - val_accuracy: 0.9167\n",
      "Epoch 18/50\n",
      "27/27 [==============================] - 0s 10ms/step - loss: 0.1714 - accuracy: 0.9479 - val_loss: 0.2088 - val_accuracy: 0.9306\n",
      "Epoch 19/50\n",
      "27/27 [==============================] - 0s 9ms/step - loss: 0.1591 - accuracy: 0.9514 - val_loss: 0.1913 - val_accuracy: 0.9306\n",
      "Epoch 20/50\n",
      "27/27 [==============================] - 0s 9ms/step - loss: 0.1323 - accuracy: 0.9618 - val_loss: 0.1763 - val_accuracy: 0.9444\n",
      "Epoch 21/50\n",
      "27/27 [==============================] - 0s 9ms/step - loss: 0.1234 - accuracy: 0.9641 - val_loss: 0.1643 - val_accuracy: 0.9537\n",
      "Epoch 22/50\n",
      "27/27 [==============================] - 0s 9ms/step - loss: 0.1157 - accuracy: 0.9641 - val_loss: 0.1534 - val_accuracy: 0.9583\n",
      "Epoch 23/50\n",
      "27/27 [==============================] - 0s 10ms/step - loss: 0.1180 - accuracy: 0.9699 - val_loss: 0.1408 - val_accuracy: 0.9583\n",
      "Epoch 24/50\n",
      "27/27 [==============================] - 0s 9ms/step - loss: 0.1063 - accuracy: 0.9641 - val_loss: 0.1331 - val_accuracy: 0.9583\n",
      "Epoch 25/50\n",
      "27/27 [==============================] - 0s 10ms/step - loss: 0.0949 - accuracy: 0.9792 - val_loss: 0.1360 - val_accuracy: 0.9630\n",
      "Epoch 26/50\n",
      "27/27 [==============================] - 0s 10ms/step - loss: 0.0850 - accuracy: 0.9734 - val_loss: 0.1291 - val_accuracy: 0.9630\n",
      "Epoch 27/50\n",
      "27/27 [==============================] - 0s 9ms/step - loss: 0.0996 - accuracy: 0.9711 - val_loss: 0.1479 - val_accuracy: 0.9583\n",
      "Epoch 28/50\n",
      "27/27 [==============================] - 0s 9ms/step - loss: 0.0835 - accuracy: 0.9745 - val_loss: 0.1415 - val_accuracy: 0.9537\n",
      "Epoch 29/50\n",
      "27/27 [==============================] - 0s 10ms/step - loss: 0.0890 - accuracy: 0.9745 - val_loss: 0.1245 - val_accuracy: 0.9676\n",
      "Epoch 30/50\n",
      "27/27 [==============================] - 0s 9ms/step - loss: 0.0750 - accuracy: 0.9757 - val_loss: 0.1228 - val_accuracy: 0.9676\n",
      "Epoch 31/50\n",
      "27/27 [==============================] - 0s 9ms/step - loss: 0.0837 - accuracy: 0.9769 - val_loss: 0.1280 - val_accuracy: 0.9630\n",
      "Epoch 32/50\n",
      "27/27 [==============================] - 0s 9ms/step - loss: 0.0695 - accuracy: 0.9815 - val_loss: 0.0990 - val_accuracy: 0.9676\n",
      "Epoch 33/50\n",
      "27/27 [==============================] - 0s 9ms/step - loss: 0.0678 - accuracy: 0.9826 - val_loss: 0.1021 - val_accuracy: 0.9630\n",
      "Epoch 34/50\n",
      "27/27 [==============================] - 0s 9ms/step - loss: 0.0635 - accuracy: 0.9826 - val_loss: 0.1015 - val_accuracy: 0.9676\n",
      "Epoch 35/50\n",
      "27/27 [==============================] - 0s 9ms/step - loss: 0.0719 - accuracy: 0.9792 - val_loss: 0.0907 - val_accuracy: 0.9722\n",
      "Epoch 36/50\n",
      "27/27 [==============================] - 0s 9ms/step - loss: 0.0507 - accuracy: 0.9850 - val_loss: 0.0912 - val_accuracy: 0.9722\n",
      "Epoch 37/50\n",
      "27/27 [==============================] - 0s 10ms/step - loss: 0.0462 - accuracy: 0.9873 - val_loss: 0.0913 - val_accuracy: 0.9722\n",
      "Epoch 38/50\n",
      "27/27 [==============================] - 0s 9ms/step - loss: 0.0500 - accuracy: 0.9896 - val_loss: 0.0868 - val_accuracy: 0.9722\n",
      "Epoch 39/50\n",
      "27/27 [==============================] - 0s 10ms/step - loss: 0.0353 - accuracy: 0.9954 - val_loss: 0.0869 - val_accuracy: 0.9676\n",
      "Epoch 40/50\n",
      "27/27 [==============================] - 0s 10ms/step - loss: 0.0440 - accuracy: 0.9873 - val_loss: 0.0763 - val_accuracy: 0.9769\n",
      "Epoch 41/50\n",
      "27/27 [==============================] - 0s 9ms/step - loss: 0.0568 - accuracy: 0.9873 - val_loss: 0.0873 - val_accuracy: 0.9815\n",
      "Epoch 42/50\n",
      "27/27 [==============================] - 0s 9ms/step - loss: 0.0447 - accuracy: 0.9884 - val_loss: 0.0926 - val_accuracy: 0.9676\n",
      "Epoch 43/50\n",
      "27/27 [==============================] - 0s 10ms/step - loss: 0.0401 - accuracy: 0.9907 - val_loss: 0.0821 - val_accuracy: 0.9722\n",
      "Epoch 44/50\n",
      "27/27 [==============================] - 0s 10ms/step - loss: 0.0465 - accuracy: 0.9884 - val_loss: 0.1219 - val_accuracy: 0.9676\n",
      "Epoch 45/50\n",
      "27/27 [==============================] - 0s 9ms/step - loss: 0.0509 - accuracy: 0.9873 - val_loss: 0.0992 - val_accuracy: 0.9676\n",
      "Epoch 46/50\n",
      "27/27 [==============================] - 0s 9ms/step - loss: 0.0327 - accuracy: 0.9942 - val_loss: 0.0880 - val_accuracy: 0.9769\n",
      "Epoch 47/50\n",
      "27/27 [==============================] - 0s 9ms/step - loss: 0.0367 - accuracy: 0.9931 - val_loss: 0.0835 - val_accuracy: 0.9769\n",
      "Epoch 48/50\n",
      "27/27 [==============================] - 0s 9ms/step - loss: 0.0476 - accuracy: 0.9838 - val_loss: 0.0957 - val_accuracy: 0.9722\n",
      "Epoch 49/50\n",
      "27/27 [==============================] - 0s 9ms/step - loss: 0.0384 - accuracy: 0.9884 - val_loss: 0.1047 - val_accuracy: 0.9583\n",
      "Epoch 50/50\n",
      "27/27 [==============================] - 0s 9ms/step - loss: 0.0366 - accuracy: 0.9931 - val_loss: 0.0846 - val_accuracy: 0.9769\n"
     ]
    }
   ],
   "source": [
    "#stores the progression of several metrics as the model trains.\n",
    "history = model.fit(x_train,y_train,validation_data=(x_validation,y_validation),epochs=50)"
   ]
  },
  {
   "cell_type": "markdown",
   "id": "cd9cd653",
   "metadata": {},
   "source": [
    "<h2>Evaluating the Trained Model</h2>\n",
    "We plot the history of the model across epochs with respect to accuracy and error using the $\\texttt{plot_history(...)}$ function provided by Valerio Velardo in \n",
    "\n",
    "https://www.youtube.com/watch?v=_xcFAiufwd0&list=PL-wATfeyAMNrtbkCNsLcpoAyBBRJZVlnf&index=13"
   ]
  },
  {
   "cell_type": "code",
   "execution_count": 13,
   "id": "c3fcee5e",
   "metadata": {},
   "outputs": [],
   "source": [
    "import matplotlib.pyplot as plt\n",
    "\"\"\"\n",
    "https://www.youtube.com/watch?v=_xcFAiufwd0&list=PL-wATfeyAMNrtbkCNsLcpoAyBBRJZVlnf&index=13\n",
    "Plot the history of the model across epochs with respect to accuracy and error as two subplots.\n",
    "@param history: a history produced by a model.fit function of a keras model.\n",
    "\"\"\"\n",
    "def plot_history(history):\n",
    "    fig,axs = plt.subplots(2)\n",
    "    axs[0].plot(history.history[\"accuracy\"],label=\"train accuracy\")\n",
    "    axs[0].plot(history.history[\"val_accuracy\"],label=\"test accuracy\")\n",
    "    axs[0].set_ylabel(\"accuracy\")\n",
    "    #loc sets location\n",
    "    axs[0].legend(loc=\"lower right\")\n",
    "    axs[0].set_title(\"accuracy eval\")\n",
    "    \n",
    "    axs[1].plot(history.history[\"loss\"],label=\"train error\")\n",
    "    axs[1].plot(history.history[\"val_loss\"],label=\"test error\")\n",
    "    axs[1].set_ylabel(\"error\")\n",
    "    #loc sets location\n",
    "    axs[1].legend(loc=\"upper right\")\n",
    "    axs[1].set_title(\"error eval\")\n",
    "    axs[1].set_xlabel(\"error\")\n",
    "    axs[1].set_xlabel(\"epoch\")\n",
    "    \n",
    "    #just keeps the images from overlapping\n",
    "    fig.tight_layout() \n",
    "    #plt.show()"
   ]
  },
  {
   "cell_type": "markdown",
   "id": "3b80ae58",
   "metadata": {},
   "source": [
    "It is clear that the model has trained well and consistently achieves accuracy above $97 \\%$ on the validation set. It seems to converge to this value after about 20 epochs."
   ]
  },
  {
   "cell_type": "code",
   "execution_count": 14,
   "id": "810988c0",
   "metadata": {},
   "outputs": [
    {
     "data": {
      "image/png": "[encoded data removed]",
      "text/plain": [
       "<Figure size 432x288 with 2 Axes>"
      ]
     },
     "metadata": {
      "needs_background": "light"
     },
     "output_type": "display_data"
    }
   ],
   "source": [
    "plot_history(history)"
   ]
  },
  {
   "cell_type": "markdown",
   "id": "966e634d",
   "metadata": {},
   "source": [
    "A simple prediction function."
   ]
  },
  {
   "cell_type": "code",
   "execution_count": 15,
   "id": "97d80927",
   "metadata": {},
   "outputs": [
    {
     "name": "stdout",
     "output_type": "stream",
     "text": [
      "Testing Sample Number  102\n",
      "We predict:rap\n",
      "Actual answer is:rap\n"
     ]
    }
   ],
   "source": [
    "\"\"\"\n",
    "see whether the model makes  the correct prediction about a sample\n",
    "@param x_n: the input mfcc data\n",
    "@param y_n: the true label of the data\n",
    "@param cats: the text representation of the output categories\n",
    "@return a string describing the prediction and the actual label of x_n\n",
    "\"\"\"\n",
    "def predict(x_n, y_n,cats):\n",
    "    #predict expects a batch of values as input.\n",
    "    # it should be the first value in x_n.shape\n",
    "    x_n=x_n[np.newaxis,...]\n",
    "    prediction = np.argmax(model.predict(x_n))\n",
    "    predictionAsString=cats[prediction-1]\n",
    "    textPrediction = \"We predict:{}\\nActual answer is:{}\".format(predictionAsString,cats[y_n-1])\n",
    "    return textPrediction\n",
    "sampleNum = int(np.random.rand()*x_test.shape[0])\n",
    "print (\"Testing Sample Number \",sampleNum)\n",
    "x_n=x_test[sampleNum]\n",
    "y_n=y_test[sampleNum]\n",
    "\n",
    "cats =  ['speech','rap','singing','failure']\n",
    "print(predict(x_n,y_n,cats))\n",
    "\n",
    " "
   ]
  },
  {
   "cell_type": "code",
   "execution_count": null,
   "id": "a9b48bcf",
   "metadata": {},
   "outputs": [],
   "source": []
  },
  {
   "cell_type": "code",
   "execution_count": null,
   "id": "961c56e7",
   "metadata": {},
   "outputs": [],
   "source": []
  },
  {
   "cell_type": "code",
   "execution_count": null,
   "id": "ece205a2",
   "metadata": {},
   "outputs": [],
   "source": []
  },
  {
   "cell_type": "code",
   "execution_count": null,
   "id": "b370db67",
   "metadata": {},
   "outputs": [],
   "source": []
  },
  {
   "cell_type": "code",
   "execution_count": null,
   "id": "4bd766e7",
   "metadata": {},
   "outputs": [],
   "source": []
  }
 ],
 "metadata": {
  "kernelspec": {
   "display_name": "Python 3",
   "language": "python",
   "name": "python3"
  },
  "language_info": {
   "codemirror_mode": {
    "name": "ipython",
    "version": 3
   },
   "file_extension": ".py",
   "mimetype": "text/x-python",
   "name": "python",
   "nbconvert_exporter": "python",
   "pygments_lexer": "ipython3",
   "version": "3.7.10"
  }
 },
 "nbformat": 4,
 "nbformat_minor": 5
}
